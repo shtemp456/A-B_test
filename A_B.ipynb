{
 "cells": [
  {
   "cell_type": "markdown",
   "metadata": {},
   "source": [
    "План работ\n",
    "Часть 1. Подготовка данных к анализу\n",
    "\n",
    "Загрузить данные из таблиц, провести первичный анализ\n",
    "Оптимизировать данные для анализа (поиск дублей, анализ пропусков, проверка названий столбцов и т.п.)\n",
    "Проверка/корректировка типов данных\n",
    "\n",
    "Часть 2. Приоритизация гипотез.\n",
    "\n",
    "Применить фреймворк ICE для приоритизации гипотез. Отсортировать их по убыванию приоритета.\n",
    "Применить фреймворк RICE для приоритизации гипотез. Отсортировать их по убыванию приоритета.\n",
    "Указать, как изменилась приоритизация гипотез при применении RICE вместо ICE. Объяснить, почему так произошло.\n",
    "\n",
    "Часть 3. Анализ A/B-теста\n",
    "\n",
    "Построить график кумулятивной выручки по группам. Сделать выводы и предположения.\n",
    "Построить график кумулятивного среднего чека по группам. Сделать выводы и предположения.\n",
    "Построить график относительного изменения кумулятивного среднего чека группы B к группе A. Сделать выводы и предположения.\n",
    "Построить график кумулятивной конверсии по группам. Сделать выводы и предположения.\n",
    "Построить график относительного изменения кумулятивной конверсии группы B к группе A. Сделать выводы и предположения.\n",
    "Построить точечный график количества заказов по пользователям. Сделать выводы и предположения.\n",
    "Посчитать 95-й и 99-й перцентили количества заказов на пользователя. Выбрать границу для определения аномальных пользователей.\n",
    "Построить точечный график стоимостей заказов. Сделать выводы и предположения.\n",
    "Посчитать 95-й и 99-й перцентили стоимости заказов. Выбрать границу для определения аномальных заказов.\n",
    "Часть 4. Статистическая значимость\n",
    "\n",
    "Посчитать статистическую значимость различий в конверсии между группами по «сырым» данным. Сделать выводы и предположения.\n",
    "Посчитать статистическую значимость различий в среднем чеке заказа между группами по «сырым» данным. Сделать выводы и предположения.\n",
    "Посчитать статистическую значимость различий в конверсии между группами по «очищенным» данным. Сделать выводы и предположения.\n",
    "Посчитать статистическую значимость различий в среднем чеке заказа между группами по «очищенным» данным. Сделать выводы и предположения.\n",
    "Принять решение по результатам теста и объяснить его. Варианты решений: \n",
    "1. Остановить тест, зафиксировать победу одной из групп. \n",
    "2. Остановить тест, зафиксировать отсутствие различий между группами. \n",
    "3. Продолжить тест."
   ]
  },
  {
   "cell_type": "markdown",
   "metadata": {},
   "source": [
    "Часть №1: Подготовка данных к анализу.\n"
   ]
  },
  {
   "cell_type": "code",
   "execution_count": 1,
   "metadata": {},
   "outputs": [],
   "source": [
    "#Импорт библиотек\n",
    "import pandas as pd\n",
    "import matplotlib.pyplot as plt\n",
    "import math\n",
    "import seaborn as sns\n",
    "from scipy import stats as st\n",
    "import numpy as np \n",
    "import datetime as dt\n",
    "\n",
    "# для отображения в jupiter всех колонок и столбцов df + сокращу количество цифр после запятой\n",
    "pd.set_option('display.max_columns', None)\n",
    "pd.set_option('display.max_rows', None)\n",
    "pd.set_option('display.precision',2)"
   ]
  },
  {
   "cell_type": "code",
   "execution_count": 2,
   "metadata": {},
   "outputs": [],
   "source": [
    "#открываем и сохраняем как датафрейм файл с данными:\n",
    "try:\n",
    "    # personal path\n",
    "    hypothesis, orders, visitors = (\n",
    "                            pd.read_csv('hypothesis.csv'),\n",
    "                            pd.read_csv('orders.csv'),\n",
    "                            pd.read_csv('visitors.csv')\n",
    "                            )\n",
    "except:\n",
    "    # Yandex path\n",
    "    hypothesis, orders, visitors = (\n",
    "                            pd.read_csv('/datasets/hypothesis.csv'),\n",
    "                            pd.read_csv('/datasets/orders.csv'),\n",
    "                            pd.read_csv('/datasets/visitors.csv')\n",
    "                            )"
   ]
  },
  {
   "cell_type": "code",
   "execution_count": 3,
   "metadata": {},
   "outputs": [
    {
     "data": {
      "text/html": [
       "<div>\n",
       "<style scoped>\n",
       "    .dataframe tbody tr th:only-of-type {\n",
       "        vertical-align: middle;\n",
       "    }\n",
       "\n",
       "    .dataframe tbody tr th {\n",
       "        vertical-align: top;\n",
       "    }\n",
       "\n",
       "    .dataframe thead th {\n",
       "        text-align: right;\n",
       "    }\n",
       "</style>\n",
       "<table border=\"1\" class=\"dataframe\">\n",
       "  <thead>\n",
       "    <tr style=\"text-align: right;\">\n",
       "      <th></th>\n",
       "      <th>Hypothesis</th>\n",
       "      <th>Reach</th>\n",
       "      <th>Impact</th>\n",
       "      <th>Confidence</th>\n",
       "      <th>Efforts</th>\n",
       "    </tr>\n",
       "  </thead>\n",
       "  <tbody>\n",
       "    <tr>\n",
       "      <th>0</th>\n",
       "      <td>Добавить два новых канала привлечения трафика,...</td>\n",
       "      <td>3</td>\n",
       "      <td>10</td>\n",
       "      <td>8</td>\n",
       "      <td>6</td>\n",
       "    </tr>\n",
       "    <tr>\n",
       "      <th>1</th>\n",
       "      <td>Запустить собственную службу доставки, что сок...</td>\n",
       "      <td>2</td>\n",
       "      <td>5</td>\n",
       "      <td>4</td>\n",
       "      <td>10</td>\n",
       "    </tr>\n",
       "    <tr>\n",
       "      <th>2</th>\n",
       "      <td>Добавить блоки рекомендаций товаров на сайт ин...</td>\n",
       "      <td>8</td>\n",
       "      <td>3</td>\n",
       "      <td>7</td>\n",
       "      <td>3</td>\n",
       "    </tr>\n",
       "    <tr>\n",
       "      <th>3</th>\n",
       "      <td>Изменить структура категорий, что увеличит кон...</td>\n",
       "      <td>8</td>\n",
       "      <td>3</td>\n",
       "      <td>3</td>\n",
       "      <td>8</td>\n",
       "    </tr>\n",
       "    <tr>\n",
       "      <th>4</th>\n",
       "      <td>Изменить цвет фона главной страницы, чтобы уве...</td>\n",
       "      <td>3</td>\n",
       "      <td>1</td>\n",
       "      <td>1</td>\n",
       "      <td>1</td>\n",
       "    </tr>\n",
       "  </tbody>\n",
       "</table>\n",
       "</div>"
      ],
      "text/plain": [
       "                                          Hypothesis  Reach  Impact  \\\n",
       "0  Добавить два новых канала привлечения трафика,...      3      10   \n",
       "1  Запустить собственную службу доставки, что сок...      2       5   \n",
       "2  Добавить блоки рекомендаций товаров на сайт ин...      8       3   \n",
       "3  Изменить структура категорий, что увеличит кон...      8       3   \n",
       "4  Изменить цвет фона главной страницы, чтобы уве...      3       1   \n",
       "\n",
       "   Confidence  Efforts  \n",
       "0           8        6  \n",
       "1           4       10  \n",
       "2           7        3  \n",
       "3           3        8  \n",
       "4           1        1  "
      ]
     },
     "metadata": {},
     "output_type": "display_data"
    },
    {
     "name": "stdout",
     "output_type": "stream",
     "text": [
      "<class 'pandas.core.frame.DataFrame'>\n",
      "RangeIndex: 9 entries, 0 to 8\n",
      "Data columns (total 5 columns):\n",
      " #   Column      Non-Null Count  Dtype \n",
      "---  ------      --------------  ----- \n",
      " 0   Hypothesis  9 non-null      object\n",
      " 1   Reach       9 non-null      int64 \n",
      " 2   Impact      9 non-null      int64 \n",
      " 3   Confidence  9 non-null      int64 \n",
      " 4   Efforts     9 non-null      int64 \n",
      "dtypes: int64(4), object(1)\n",
      "memory usage: 488.0+ bytes\n"
     ]
    },
    {
     "data": {
      "text/plain": [
       "None"
      ]
     },
     "metadata": {},
     "output_type": "display_data"
    },
    {
     "data": {
      "text/html": [
       "<div>\n",
       "<style scoped>\n",
       "    .dataframe tbody tr th:only-of-type {\n",
       "        vertical-align: middle;\n",
       "    }\n",
       "\n",
       "    .dataframe tbody tr th {\n",
       "        vertical-align: top;\n",
       "    }\n",
       "\n",
       "    .dataframe thead th {\n",
       "        text-align: right;\n",
       "    }\n",
       "</style>\n",
       "<table border=\"1\" class=\"dataframe\">\n",
       "  <thead>\n",
       "    <tr style=\"text-align: right;\">\n",
       "      <th></th>\n",
       "      <th>Reach</th>\n",
       "      <th>Impact</th>\n",
       "      <th>Confidence</th>\n",
       "      <th>Efforts</th>\n",
       "    </tr>\n",
       "  </thead>\n",
       "  <tbody>\n",
       "    <tr>\n",
       "      <th>count</th>\n",
       "      <td>9.00</td>\n",
       "      <td>9.00</td>\n",
       "      <td>9.00</td>\n",
       "      <td>9.00</td>\n",
       "    </tr>\n",
       "    <tr>\n",
       "      <th>mean</th>\n",
       "      <td>4.78</td>\n",
       "      <td>4.78</td>\n",
       "      <td>5.56</td>\n",
       "      <td>4.89</td>\n",
       "    </tr>\n",
       "    <tr>\n",
       "      <th>std</th>\n",
       "      <td>3.15</td>\n",
       "      <td>3.19</td>\n",
       "      <td>3.05</td>\n",
       "      <td>2.80</td>\n",
       "    </tr>\n",
       "    <tr>\n",
       "      <th>min</th>\n",
       "      <td>1.00</td>\n",
       "      <td>1.00</td>\n",
       "      <td>1.00</td>\n",
       "      <td>1.00</td>\n",
       "    </tr>\n",
       "    <tr>\n",
       "      <th>25%</th>\n",
       "      <td>3.00</td>\n",
       "      <td>3.00</td>\n",
       "      <td>3.00</td>\n",
       "      <td>3.00</td>\n",
       "    </tr>\n",
       "    <tr>\n",
       "      <th>50%</th>\n",
       "      <td>3.00</td>\n",
       "      <td>3.00</td>\n",
       "      <td>7.00</td>\n",
       "      <td>5.00</td>\n",
       "    </tr>\n",
       "    <tr>\n",
       "      <th>75%</th>\n",
       "      <td>8.00</td>\n",
       "      <td>7.00</td>\n",
       "      <td>8.00</td>\n",
       "      <td>6.00</td>\n",
       "    </tr>\n",
       "    <tr>\n",
       "      <th>max</th>\n",
       "      <td>10.00</td>\n",
       "      <td>10.00</td>\n",
       "      <td>9.00</td>\n",
       "      <td>10.00</td>\n",
       "    </tr>\n",
       "  </tbody>\n",
       "</table>\n",
       "</div>"
      ],
      "text/plain": [
       "       Reach  Impact  Confidence  Efforts\n",
       "count   9.00    9.00        9.00     9.00\n",
       "mean    4.78    4.78        5.56     4.89\n",
       "std     3.15    3.19        3.05     2.80\n",
       "min     1.00    1.00        1.00     1.00\n",
       "25%     3.00    3.00        3.00     3.00\n",
       "50%     3.00    3.00        7.00     5.00\n",
       "75%     8.00    7.00        8.00     6.00\n",
       "max    10.00   10.00        9.00    10.00"
      ]
     },
     "metadata": {},
     "output_type": "display_data"
    },
    {
     "name": "stdout",
     "output_type": "stream",
     "text": [
      "Количество дублей: 0\n"
     ]
    }
   ],
   "source": [
    "display(hypothesis.head())\n",
    "display(hypothesis.info())\n",
    "display(hypothesis.describe())\n",
    "print('Количество дублей:', hypothesis.duplicated().sum())\n",
    "        \n"
   ]
  },
  {
   "cell_type": "code",
   "execution_count": 4,
   "metadata": {},
   "outputs": [
    {
     "data": {
      "text/html": [
       "<div>\n",
       "<style scoped>\n",
       "    .dataframe tbody tr th:only-of-type {\n",
       "        vertical-align: middle;\n",
       "    }\n",
       "\n",
       "    .dataframe tbody tr th {\n",
       "        vertical-align: top;\n",
       "    }\n",
       "\n",
       "    .dataframe thead th {\n",
       "        text-align: right;\n",
       "    }\n",
       "</style>\n",
       "<table border=\"1\" class=\"dataframe\">\n",
       "  <thead>\n",
       "    <tr style=\"text-align: right;\">\n",
       "      <th></th>\n",
       "      <th>hypothesis</th>\n",
       "      <th>reach</th>\n",
       "      <th>impact</th>\n",
       "      <th>confidence</th>\n",
       "      <th>efforts</th>\n",
       "    </tr>\n",
       "  </thead>\n",
       "  <tbody>\n",
       "    <tr>\n",
       "      <th>5</th>\n",
       "      <td>Добавить страницу отзывов клиентов о магазине,...</td>\n",
       "      <td>3</td>\n",
       "      <td>2</td>\n",
       "      <td>2</td>\n",
       "      <td>3</td>\n",
       "    </tr>\n",
       "  </tbody>\n",
       "</table>\n",
       "</div>"
      ],
      "text/plain": [
       "                                          hypothesis  reach  impact  \\\n",
       "5  Добавить страницу отзывов клиентов о магазине,...      3       2   \n",
       "\n",
       "   confidence  efforts  \n",
       "5           2        3  "
      ]
     },
     "execution_count": 4,
     "metadata": {},
     "output_type": "execute_result"
    }
   ],
   "source": [
    "# поменяем регистр заголовков\n",
    "hypothesis_columns = (hypothesis.columns).str.lower()\n",
    "hypothesis.columns=hypothesis_columns\n",
    "hypothesis.sample()\n"
   ]
  },
  {
   "cell_type": "code",
   "execution_count": 5,
   "metadata": {},
   "outputs": [
    {
     "data": {
      "text/html": [
       "<div>\n",
       "<style scoped>\n",
       "    .dataframe tbody tr th:only-of-type {\n",
       "        vertical-align: middle;\n",
       "    }\n",
       "\n",
       "    .dataframe tbody tr th {\n",
       "        vertical-align: top;\n",
       "    }\n",
       "\n",
       "    .dataframe thead th {\n",
       "        text-align: right;\n",
       "    }\n",
       "</style>\n",
       "<table border=\"1\" class=\"dataframe\">\n",
       "  <thead>\n",
       "    <tr style=\"text-align: right;\">\n",
       "      <th></th>\n",
       "      <th>transactionId</th>\n",
       "      <th>visitorId</th>\n",
       "      <th>date</th>\n",
       "      <th>revenue</th>\n",
       "      <th>group</th>\n",
       "    </tr>\n",
       "  </thead>\n",
       "  <tbody>\n",
       "    <tr>\n",
       "      <th>0</th>\n",
       "      <td>3667963787</td>\n",
       "      <td>3312258926</td>\n",
       "      <td>2019-08-15</td>\n",
       "      <td>1650</td>\n",
       "      <td>B</td>\n",
       "    </tr>\n",
       "    <tr>\n",
       "      <th>1</th>\n",
       "      <td>2804400009</td>\n",
       "      <td>3642806036</td>\n",
       "      <td>2019-08-15</td>\n",
       "      <td>730</td>\n",
       "      <td>B</td>\n",
       "    </tr>\n",
       "    <tr>\n",
       "      <th>2</th>\n",
       "      <td>2961555356</td>\n",
       "      <td>4069496402</td>\n",
       "      <td>2019-08-15</td>\n",
       "      <td>400</td>\n",
       "      <td>A</td>\n",
       "    </tr>\n",
       "    <tr>\n",
       "      <th>3</th>\n",
       "      <td>3797467345</td>\n",
       "      <td>1196621759</td>\n",
       "      <td>2019-08-15</td>\n",
       "      <td>9759</td>\n",
       "      <td>B</td>\n",
       "    </tr>\n",
       "    <tr>\n",
       "      <th>4</th>\n",
       "      <td>2282983706</td>\n",
       "      <td>2322279887</td>\n",
       "      <td>2019-08-15</td>\n",
       "      <td>2308</td>\n",
       "      <td>B</td>\n",
       "    </tr>\n",
       "  </tbody>\n",
       "</table>\n",
       "</div>"
      ],
      "text/plain": [
       "   transactionId   visitorId        date  revenue group\n",
       "0     3667963787  3312258926  2019-08-15     1650     B\n",
       "1     2804400009  3642806036  2019-08-15      730     B\n",
       "2     2961555356  4069496402  2019-08-15      400     A\n",
       "3     3797467345  1196621759  2019-08-15     9759     B\n",
       "4     2282983706  2322279887  2019-08-15     2308     B"
      ]
     },
     "metadata": {},
     "output_type": "display_data"
    },
    {
     "name": "stdout",
     "output_type": "stream",
     "text": [
      "<class 'pandas.core.frame.DataFrame'>\n",
      "RangeIndex: 1197 entries, 0 to 1196\n",
      "Data columns (total 5 columns):\n",
      " #   Column         Non-Null Count  Dtype \n",
      "---  ------         --------------  ----- \n",
      " 0   transactionId  1197 non-null   int64 \n",
      " 1   visitorId      1197 non-null   int64 \n",
      " 2   date           1197 non-null   object\n",
      " 3   revenue        1197 non-null   int64 \n",
      " 4   group          1197 non-null   object\n",
      "dtypes: int64(3), object(2)\n",
      "memory usage: 46.9+ KB\n"
     ]
    },
    {
     "data": {
      "text/plain": [
       "None"
      ]
     },
     "metadata": {},
     "output_type": "display_data"
    },
    {
     "data": {
      "text/html": [
       "<div>\n",
       "<style scoped>\n",
       "    .dataframe tbody tr th:only-of-type {\n",
       "        vertical-align: middle;\n",
       "    }\n",
       "\n",
       "    .dataframe tbody tr th {\n",
       "        vertical-align: top;\n",
       "    }\n",
       "\n",
       "    .dataframe thead th {\n",
       "        text-align: right;\n",
       "    }\n",
       "</style>\n",
       "<table border=\"1\" class=\"dataframe\">\n",
       "  <thead>\n",
       "    <tr style=\"text-align: right;\">\n",
       "      <th></th>\n",
       "      <th>transactionId</th>\n",
       "      <th>visitorId</th>\n",
       "      <th>revenue</th>\n",
       "    </tr>\n",
       "  </thead>\n",
       "  <tbody>\n",
       "    <tr>\n",
       "      <th>count</th>\n",
       "      <td>1.20e+03</td>\n",
       "      <td>1.20e+03</td>\n",
       "      <td>1.20e+03</td>\n",
       "    </tr>\n",
       "    <tr>\n",
       "      <th>mean</th>\n",
       "      <td>2.16e+09</td>\n",
       "      <td>2.17e+09</td>\n",
       "      <td>8.35e+03</td>\n",
       "    </tr>\n",
       "    <tr>\n",
       "      <th>std</th>\n",
       "      <td>1.23e+09</td>\n",
       "      <td>1.24e+09</td>\n",
       "      <td>3.92e+04</td>\n",
       "    </tr>\n",
       "    <tr>\n",
       "      <th>min</th>\n",
       "      <td>1.06e+06</td>\n",
       "      <td>5.11e+06</td>\n",
       "      <td>5.00e+01</td>\n",
       "    </tr>\n",
       "    <tr>\n",
       "      <th>25%</th>\n",
       "      <td>1.17e+09</td>\n",
       "      <td>1.11e+09</td>\n",
       "      <td>1.22e+03</td>\n",
       "    </tr>\n",
       "    <tr>\n",
       "      <th>50%</th>\n",
       "      <td>2.15e+09</td>\n",
       "      <td>2.22e+09</td>\n",
       "      <td>2.98e+03</td>\n",
       "    </tr>\n",
       "    <tr>\n",
       "      <th>75%</th>\n",
       "      <td>3.24e+09</td>\n",
       "      <td>3.18e+09</td>\n",
       "      <td>8.29e+03</td>\n",
       "    </tr>\n",
       "    <tr>\n",
       "      <th>max</th>\n",
       "      <td>4.29e+09</td>\n",
       "      <td>4.28e+09</td>\n",
       "      <td>1.29e+06</td>\n",
       "    </tr>\n",
       "  </tbody>\n",
       "</table>\n",
       "</div>"
      ],
      "text/plain": [
       "       transactionId  visitorId   revenue\n",
       "count       1.20e+03   1.20e+03  1.20e+03\n",
       "mean        2.16e+09   2.17e+09  8.35e+03\n",
       "std         1.23e+09   1.24e+09  3.92e+04\n",
       "min         1.06e+06   5.11e+06  5.00e+01\n",
       "25%         1.17e+09   1.11e+09  1.22e+03\n",
       "50%         2.15e+09   2.22e+09  2.98e+03\n",
       "75%         3.24e+09   3.18e+09  8.29e+03\n",
       "max         4.29e+09   4.28e+09  1.29e+06"
      ]
     },
     "metadata": {},
     "output_type": "display_data"
    },
    {
     "name": "stdout",
     "output_type": "stream",
     "text": [
      "Количество дублей: 0\n"
     ]
    }
   ],
   "source": [
    "display(orders.head())\n",
    "display(orders.info())\n",
    "display(orders.describe())\n",
    "print('Количество дублей:', orders.duplicated().sum())"
   ]
  },
  {
   "cell_type": "code",
   "execution_count": 6,
   "metadata": {},
   "outputs": [
    {
     "name": "stdout",
     "output_type": "stream",
     "text": [
      "<class 'pandas.core.frame.DataFrame'>\n",
      "RangeIndex: 1197 entries, 0 to 1196\n",
      "Data columns (total 5 columns):\n",
      " #   Column         Non-Null Count  Dtype         \n",
      "---  ------         --------------  -----         \n",
      " 0   transactionId  1197 non-null   int64         \n",
      " 1   visitorId      1197 non-null   int64         \n",
      " 2   date           1197 non-null   datetime64[ns]\n",
      " 3   revenue        1197 non-null   int64         \n",
      " 4   group          1197 non-null   object        \n",
      "dtypes: datetime64[ns](1), int64(3), object(1)\n",
      "memory usage: 46.9+ KB\n"
     ]
    }
   ],
   "source": [
    "# сразу поменяем формат даты на корректный\n",
    "#orders['date'] = orders['date'].map(lambda x: dt.datetime.strptime(x, '%Y-%m-%d'))\n",
    "orders['date'] = pd.to_datetime(orders['date'], format='%Y-%m-%d')\n",
    "orders.info()"
   ]
  },
  {
   "cell_type": "code",
   "execution_count": 7,
   "metadata": {},
   "outputs": [
    {
     "data": {
      "text/html": [
       "<div>\n",
       "<style scoped>\n",
       "    .dataframe tbody tr th:only-of-type {\n",
       "        vertical-align: middle;\n",
       "    }\n",
       "\n",
       "    .dataframe tbody tr th {\n",
       "        vertical-align: top;\n",
       "    }\n",
       "\n",
       "    .dataframe thead th {\n",
       "        text-align: right;\n",
       "    }\n",
       "</style>\n",
       "<table border=\"1\" class=\"dataframe\">\n",
       "  <thead>\n",
       "    <tr style=\"text-align: right;\">\n",
       "      <th></th>\n",
       "      <th>date</th>\n",
       "      <th>group</th>\n",
       "      <th>visitors</th>\n",
       "    </tr>\n",
       "  </thead>\n",
       "  <tbody>\n",
       "    <tr>\n",
       "      <th>0</th>\n",
       "      <td>2019-08-01</td>\n",
       "      <td>A</td>\n",
       "      <td>719</td>\n",
       "    </tr>\n",
       "    <tr>\n",
       "      <th>1</th>\n",
       "      <td>2019-08-02</td>\n",
       "      <td>A</td>\n",
       "      <td>619</td>\n",
       "    </tr>\n",
       "    <tr>\n",
       "      <th>2</th>\n",
       "      <td>2019-08-03</td>\n",
       "      <td>A</td>\n",
       "      <td>507</td>\n",
       "    </tr>\n",
       "    <tr>\n",
       "      <th>3</th>\n",
       "      <td>2019-08-04</td>\n",
       "      <td>A</td>\n",
       "      <td>717</td>\n",
       "    </tr>\n",
       "    <tr>\n",
       "      <th>4</th>\n",
       "      <td>2019-08-05</td>\n",
       "      <td>A</td>\n",
       "      <td>756</td>\n",
       "    </tr>\n",
       "  </tbody>\n",
       "</table>\n",
       "</div>"
      ],
      "text/plain": [
       "         date group  visitors\n",
       "0  2019-08-01     A       719\n",
       "1  2019-08-02     A       619\n",
       "2  2019-08-03     A       507\n",
       "3  2019-08-04     A       717\n",
       "4  2019-08-05     A       756"
      ]
     },
     "metadata": {},
     "output_type": "display_data"
    },
    {
     "name": "stdout",
     "output_type": "stream",
     "text": [
      "<class 'pandas.core.frame.DataFrame'>\n",
      "RangeIndex: 62 entries, 0 to 61\n",
      "Data columns (total 3 columns):\n",
      " #   Column    Non-Null Count  Dtype \n",
      "---  ------    --------------  ----- \n",
      " 0   date      62 non-null     object\n",
      " 1   group     62 non-null     object\n",
      " 2   visitors  62 non-null     int64 \n",
      "dtypes: int64(1), object(2)\n",
      "memory usage: 1.6+ KB\n"
     ]
    },
    {
     "data": {
      "text/plain": [
       "None"
      ]
     },
     "metadata": {},
     "output_type": "display_data"
    },
    {
     "data": {
      "text/html": [
       "<div>\n",
       "<style scoped>\n",
       "    .dataframe tbody tr th:only-of-type {\n",
       "        vertical-align: middle;\n",
       "    }\n",
       "\n",
       "    .dataframe tbody tr th {\n",
       "        vertical-align: top;\n",
       "    }\n",
       "\n",
       "    .dataframe thead th {\n",
       "        text-align: right;\n",
       "    }\n",
       "</style>\n",
       "<table border=\"1\" class=\"dataframe\">\n",
       "  <thead>\n",
       "    <tr style=\"text-align: right;\">\n",
       "      <th></th>\n",
       "      <th>visitors</th>\n",
       "    </tr>\n",
       "  </thead>\n",
       "  <tbody>\n",
       "    <tr>\n",
       "      <th>count</th>\n",
       "      <td>62.00</td>\n",
       "    </tr>\n",
       "    <tr>\n",
       "      <th>mean</th>\n",
       "      <td>607.29</td>\n",
       "    </tr>\n",
       "    <tr>\n",
       "      <th>std</th>\n",
       "      <td>114.40</td>\n",
       "    </tr>\n",
       "    <tr>\n",
       "      <th>min</th>\n",
       "      <td>361.00</td>\n",
       "    </tr>\n",
       "    <tr>\n",
       "      <th>25%</th>\n",
       "      <td>534.00</td>\n",
       "    </tr>\n",
       "    <tr>\n",
       "      <th>50%</th>\n",
       "      <td>624.50</td>\n",
       "    </tr>\n",
       "    <tr>\n",
       "      <th>75%</th>\n",
       "      <td>710.50</td>\n",
       "    </tr>\n",
       "    <tr>\n",
       "      <th>max</th>\n",
       "      <td>770.00</td>\n",
       "    </tr>\n",
       "  </tbody>\n",
       "</table>\n",
       "</div>"
      ],
      "text/plain": [
       "       visitors\n",
       "count     62.00\n",
       "mean     607.29\n",
       "std      114.40\n",
       "min      361.00\n",
       "25%      534.00\n",
       "50%      624.50\n",
       "75%      710.50\n",
       "max      770.00"
      ]
     },
     "metadata": {},
     "output_type": "display_data"
    },
    {
     "name": "stdout",
     "output_type": "stream",
     "text": [
      "Количество дублей: 0\n"
     ]
    }
   ],
   "source": [
    "display(visitors.head())\n",
    "display(visitors.info())\n",
    "display(visitors.describe())\n",
    "print('Количество дублей:', visitors.duplicated().sum())"
   ]
  },
  {
   "cell_type": "code",
   "execution_count": 8,
   "metadata": {},
   "outputs": [
    {
     "name": "stdout",
     "output_type": "stream",
     "text": [
      "<class 'pandas.core.frame.DataFrame'>\n",
      "RangeIndex: 62 entries, 0 to 61\n",
      "Data columns (total 3 columns):\n",
      " #   Column    Non-Null Count  Dtype         \n",
      "---  ------    --------------  -----         \n",
      " 0   date      62 non-null     datetime64[ns]\n",
      " 1   group     62 non-null     object        \n",
      " 2   visitors  62 non-null     int64         \n",
      "dtypes: datetime64[ns](1), int64(1), object(1)\n",
      "memory usage: 1.6+ KB\n"
     ]
    }
   ],
   "source": [
    "#visitors['date'] = pd.to_datetime(visitors['date'])\n",
    "visitors['date'] = visitors['date'].map(lambda x: dt.datetime.strptime(x, '%Y-%m-%d'))\n",
    "visitors['date'] = pd.to_datetime(visitors['date'], format='%Y-%m-%d')\n",
    "visitors.info() "
   ]
  },
  {
   "cell_type": "markdown",
   "metadata": {},
   "source": [
    "Данные загружены и подготовлены. Были изменены форматы данных,а так же приведение колонок к хорошему стилю.\n"
   ]
  },
  {
   "cell_type": "markdown",
   "metadata": {},
   "source": [
    "Часть 2. Приоритизация гипотез.\n"
   ]
  },
  {
   "cell_type": "markdown",
   "metadata": {},
   "source": [
    "Определим приорите гипотез с пощью ICE&RICE.\n"
   ]
  },
  {
   "cell_type": "code",
   "execution_count": 9,
   "metadata": {},
   "outputs": [
    {
     "data": {
      "text/html": [
       "<div>\n",
       "<style scoped>\n",
       "    .dataframe tbody tr th:only-of-type {\n",
       "        vertical-align: middle;\n",
       "    }\n",
       "\n",
       "    .dataframe tbody tr th {\n",
       "        vertical-align: top;\n",
       "    }\n",
       "\n",
       "    .dataframe thead th {\n",
       "        text-align: right;\n",
       "    }\n",
       "</style>\n",
       "<table border=\"1\" class=\"dataframe\">\n",
       "  <thead>\n",
       "    <tr style=\"text-align: right;\">\n",
       "      <th></th>\n",
       "      <th>hypothesis</th>\n",
       "      <th>reach</th>\n",
       "      <th>impact</th>\n",
       "      <th>confidence</th>\n",
       "      <th>efforts</th>\n",
       "      <th>ICE</th>\n",
       "    </tr>\n",
       "  </thead>\n",
       "  <tbody>\n",
       "    <tr>\n",
       "      <th>8</th>\n",
       "      <td>Запустить акцию, дающую скидку на товар в день...</td>\n",
       "      <td>1</td>\n",
       "      <td>9</td>\n",
       "      <td>9</td>\n",
       "      <td>5</td>\n",
       "      <td>16.20</td>\n",
       "    </tr>\n",
       "    <tr>\n",
       "      <th>0</th>\n",
       "      <td>Добавить два новых канала привлечения трафика,...</td>\n",
       "      <td>3</td>\n",
       "      <td>10</td>\n",
       "      <td>8</td>\n",
       "      <td>6</td>\n",
       "      <td>13.33</td>\n",
       "    </tr>\n",
       "    <tr>\n",
       "      <th>7</th>\n",
       "      <td>Добавить форму подписки на все основные страни...</td>\n",
       "      <td>10</td>\n",
       "      <td>7</td>\n",
       "      <td>8</td>\n",
       "      <td>5</td>\n",
       "      <td>11.20</td>\n",
       "    </tr>\n",
       "    <tr>\n",
       "      <th>6</th>\n",
       "      <td>Показать на главной странице баннеры с актуаль...</td>\n",
       "      <td>5</td>\n",
       "      <td>3</td>\n",
       "      <td>8</td>\n",
       "      <td>3</td>\n",
       "      <td>8.00</td>\n",
       "    </tr>\n",
       "    <tr>\n",
       "      <th>2</th>\n",
       "      <td>Добавить блоки рекомендаций товаров на сайт ин...</td>\n",
       "      <td>8</td>\n",
       "      <td>3</td>\n",
       "      <td>7</td>\n",
       "      <td>3</td>\n",
       "      <td>7.00</td>\n",
       "    </tr>\n",
       "    <tr>\n",
       "      <th>1</th>\n",
       "      <td>Запустить собственную службу доставки, что сок...</td>\n",
       "      <td>2</td>\n",
       "      <td>5</td>\n",
       "      <td>4</td>\n",
       "      <td>10</td>\n",
       "      <td>2.00</td>\n",
       "    </tr>\n",
       "    <tr>\n",
       "      <th>5</th>\n",
       "      <td>Добавить страницу отзывов клиентов о магазине,...</td>\n",
       "      <td>3</td>\n",
       "      <td>2</td>\n",
       "      <td>2</td>\n",
       "      <td>3</td>\n",
       "      <td>1.33</td>\n",
       "    </tr>\n",
       "    <tr>\n",
       "      <th>3</th>\n",
       "      <td>Изменить структура категорий, что увеличит кон...</td>\n",
       "      <td>8</td>\n",
       "      <td>3</td>\n",
       "      <td>3</td>\n",
       "      <td>8</td>\n",
       "      <td>1.12</td>\n",
       "    </tr>\n",
       "    <tr>\n",
       "      <th>4</th>\n",
       "      <td>Изменить цвет фона главной страницы, чтобы уве...</td>\n",
       "      <td>3</td>\n",
       "      <td>1</td>\n",
       "      <td>1</td>\n",
       "      <td>1</td>\n",
       "      <td>1.00</td>\n",
       "    </tr>\n",
       "  </tbody>\n",
       "</table>\n",
       "</div>"
      ],
      "text/plain": [
       "                                          hypothesis  reach  impact  \\\n",
       "8  Запустить акцию, дающую скидку на товар в день...      1       9   \n",
       "0  Добавить два новых канала привлечения трафика,...      3      10   \n",
       "7  Добавить форму подписки на все основные страни...     10       7   \n",
       "6  Показать на главной странице баннеры с актуаль...      5       3   \n",
       "2  Добавить блоки рекомендаций товаров на сайт ин...      8       3   \n",
       "1  Запустить собственную службу доставки, что сок...      2       5   \n",
       "5  Добавить страницу отзывов клиентов о магазине,...      3       2   \n",
       "3  Изменить структура категорий, что увеличит кон...      8       3   \n",
       "4  Изменить цвет фона главной страницы, чтобы уве...      3       1   \n",
       "\n",
       "   confidence  efforts    ICE  \n",
       "8           9        5  16.20  \n",
       "0           8        6  13.33  \n",
       "7           8        5  11.20  \n",
       "6           8        3   8.00  \n",
       "2           7        3   7.00  \n",
       "1           4       10   2.00  \n",
       "5           2        3   1.33  \n",
       "3           3        8   1.12  \n",
       "4           1        1   1.00  "
      ]
     },
     "execution_count": 9,
     "metadata": {},
     "output_type": "execute_result"
    }
   ],
   "source": [
    "hypothesis['ICE'] = (hypothesis['impact'] *  hypothesis['confidence']) / hypothesis['efforts']\n",
    "hypothesis.sort_values(by='ICE', ascending=False, inplace=True)\n",
    "hypothesis"
   ]
  },
  {
   "cell_type": "markdown",
   "metadata": {},
   "source": [
    "В приорите гипотезы под номером: 8,0,7\n"
   ]
  },
  {
   "cell_type": "code",
   "execution_count": 10,
   "metadata": {},
   "outputs": [
    {
     "data": {
      "text/html": [
       "<div>\n",
       "<style scoped>\n",
       "    .dataframe tbody tr th:only-of-type {\n",
       "        vertical-align: middle;\n",
       "    }\n",
       "\n",
       "    .dataframe tbody tr th {\n",
       "        vertical-align: top;\n",
       "    }\n",
       "\n",
       "    .dataframe thead th {\n",
       "        text-align: right;\n",
       "    }\n",
       "</style>\n",
       "<table border=\"1\" class=\"dataframe\">\n",
       "  <thead>\n",
       "    <tr style=\"text-align: right;\">\n",
       "      <th></th>\n",
       "      <th>hypothesis</th>\n",
       "      <th>reach</th>\n",
       "      <th>impact</th>\n",
       "      <th>confidence</th>\n",
       "      <th>efforts</th>\n",
       "      <th>ICE</th>\n",
       "      <th>RICE</th>\n",
       "    </tr>\n",
       "  </thead>\n",
       "  <tbody>\n",
       "    <tr>\n",
       "      <th>7</th>\n",
       "      <td>Добавить форму подписки на все основные страни...</td>\n",
       "      <td>10</td>\n",
       "      <td>7</td>\n",
       "      <td>8</td>\n",
       "      <td>5</td>\n",
       "      <td>11.20</td>\n",
       "      <td>112.0</td>\n",
       "    </tr>\n",
       "    <tr>\n",
       "      <th>2</th>\n",
       "      <td>Добавить блоки рекомендаций товаров на сайт ин...</td>\n",
       "      <td>8</td>\n",
       "      <td>3</td>\n",
       "      <td>7</td>\n",
       "      <td>3</td>\n",
       "      <td>7.00</td>\n",
       "      <td>56.0</td>\n",
       "    </tr>\n",
       "    <tr>\n",
       "      <th>0</th>\n",
       "      <td>Добавить два новых канала привлечения трафика,...</td>\n",
       "      <td>3</td>\n",
       "      <td>10</td>\n",
       "      <td>8</td>\n",
       "      <td>6</td>\n",
       "      <td>13.33</td>\n",
       "      <td>40.0</td>\n",
       "    </tr>\n",
       "    <tr>\n",
       "      <th>6</th>\n",
       "      <td>Показать на главной странице баннеры с актуаль...</td>\n",
       "      <td>5</td>\n",
       "      <td>3</td>\n",
       "      <td>8</td>\n",
       "      <td>3</td>\n",
       "      <td>8.00</td>\n",
       "      <td>40.0</td>\n",
       "    </tr>\n",
       "    <tr>\n",
       "      <th>8</th>\n",
       "      <td>Запустить акцию, дающую скидку на товар в день...</td>\n",
       "      <td>1</td>\n",
       "      <td>9</td>\n",
       "      <td>9</td>\n",
       "      <td>5</td>\n",
       "      <td>16.20</td>\n",
       "      <td>16.2</td>\n",
       "    </tr>\n",
       "    <tr>\n",
       "      <th>3</th>\n",
       "      <td>Изменить структура категорий, что увеличит кон...</td>\n",
       "      <td>8</td>\n",
       "      <td>3</td>\n",
       "      <td>3</td>\n",
       "      <td>8</td>\n",
       "      <td>1.12</td>\n",
       "      <td>9.0</td>\n",
       "    </tr>\n",
       "    <tr>\n",
       "      <th>1</th>\n",
       "      <td>Запустить собственную службу доставки, что сок...</td>\n",
       "      <td>2</td>\n",
       "      <td>5</td>\n",
       "      <td>4</td>\n",
       "      <td>10</td>\n",
       "      <td>2.00</td>\n",
       "      <td>4.0</td>\n",
       "    </tr>\n",
       "    <tr>\n",
       "      <th>5</th>\n",
       "      <td>Добавить страницу отзывов клиентов о магазине,...</td>\n",
       "      <td>3</td>\n",
       "      <td>2</td>\n",
       "      <td>2</td>\n",
       "      <td>3</td>\n",
       "      <td>1.33</td>\n",
       "      <td>4.0</td>\n",
       "    </tr>\n",
       "    <tr>\n",
       "      <th>4</th>\n",
       "      <td>Изменить цвет фона главной страницы, чтобы уве...</td>\n",
       "      <td>3</td>\n",
       "      <td>1</td>\n",
       "      <td>1</td>\n",
       "      <td>1</td>\n",
       "      <td>1.00</td>\n",
       "      <td>3.0</td>\n",
       "    </tr>\n",
       "  </tbody>\n",
       "</table>\n",
       "</div>"
      ],
      "text/plain": [
       "                                          hypothesis  reach  impact  \\\n",
       "7  Добавить форму подписки на все основные страни...     10       7   \n",
       "2  Добавить блоки рекомендаций товаров на сайт ин...      8       3   \n",
       "0  Добавить два новых канала привлечения трафика,...      3      10   \n",
       "6  Показать на главной странице баннеры с актуаль...      5       3   \n",
       "8  Запустить акцию, дающую скидку на товар в день...      1       9   \n",
       "3  Изменить структура категорий, что увеличит кон...      8       3   \n",
       "1  Запустить собственную службу доставки, что сок...      2       5   \n",
       "5  Добавить страницу отзывов клиентов о магазине,...      3       2   \n",
       "4  Изменить цвет фона главной страницы, чтобы уве...      3       1   \n",
       "\n",
       "   confidence  efforts    ICE   RICE  \n",
       "7           8        5  11.20  112.0  \n",
       "2           7        3   7.00   56.0  \n",
       "0           8        6  13.33   40.0  \n",
       "6           8        3   8.00   40.0  \n",
       "8           9        5  16.20   16.2  \n",
       "3           3        8   1.12    9.0  \n",
       "1           4       10   2.00    4.0  \n",
       "5           2        3   1.33    4.0  \n",
       "4           1        1   1.00    3.0  "
      ]
     },
     "execution_count": 10,
     "metadata": {},
     "output_type": "execute_result"
    }
   ],
   "source": [
    "hypothesis['RICE'] = (hypothesis['reach'] * hypothesis['impact'] *  hypothesis['confidence']) / hypothesis['efforts']\n",
    "hypothesis.sort_values(by='RICE', ascending=False, inplace=True)\n",
    "hypothesis "
   ]
  },
  {
   "cell_type": "markdown",
   "metadata": {},
   "source": [
    "По полученным данным сделаем следущий вывод\n",
    "\n",
    "Вывод:\n",
    "По RICE, приоритет гипотез под номером 7,2,0.\n",
    "По 8, можно сказать, что она не попала в приоритет из-за охвата ввиде 1.\n"
   ]
  },
  {
   "cell_type": "markdown",
   "metadata": {},
   "source": [
    "Измененный Вывод:\n",
    "\n",
    "ICE — это вариация RICE, где отдельно не выделяют R (Reach), считая его компонентом I (Impact). Это имеет смысл с точки зрения бизнеса. Например, если фича затрагивает небольшой процент наиболее лояльных пользователей, Reach (охват) будет низким, тогда как Impact (влияние) будет больши́м."
   ]
  },
  {
   "cell_type": "markdown",
   "metadata": {},
   "source": [
    "Часть №3. Анализ A/B теста.\n",
    "\n",
    "Изучаю количество заказов и посещений в каждой из групп."
   ]
  },
  {
   "cell_type": "code",
   "execution_count": 11,
   "metadata": {},
   "outputs": [
    {
     "name": "stdout",
     "output_type": "stream",
     "text": [
      "Количество посещений в группе А - 18736\n",
      "Количество посещений в группе B - 18916\n",
      "-----------------------------------\n",
      "Количество заказов в группе А - 557\n",
      "Количество заказов в группе B - 640\n"
     ]
    }
   ],
   "source": [
    "print ('Количество посещений в группе А -', visitors.query('group == \"A\"')['visitors'].sum())\n",
    "print ('Количество посещений в группе B -',visitors.query('group == \"B\"')['visitors'].sum())\n",
    "print('-----------------------------------')\n",
    "print ('Количество заказов в группе А -', orders.query('group == \"A\"').shape[0])\n",
    "print ('Количество заказов в группе B -',orders.query('group == \"B\"').shape[0])"
   ]
  },
  {
   "cell_type": "markdown",
   "metadata": {},
   "source": [
    "В группе В на 180 посещений больше, чем в группе А. Проверим не попали ли некоторые пользователи в разные группы"
   ]
  },
  {
   "cell_type": "code",
   "execution_count": 12,
   "metadata": {},
   "outputs": [],
   "source": [
    "visitorsA = orders[orders['group']=='A']['visitorId']\n",
    "visitorsB = orders[orders['group']=='B']['visitorId']"
   ]
  },
  {
   "cell_type": "code",
   "execution_count": 13,
   "metadata": {},
   "outputs": [],
   "source": [
    "visitors_AB = orders.loc[orders['visitorId'].isin(visitorsA)& orders['visitorId'].isin(visitorsB),'visitorId'].unique()"
   ]
  },
  {
   "cell_type": "markdown",
   "metadata": {},
   "source": [
    "Почистим таких пользователей из заказов!\n"
   ]
  },
  {
   "cell_type": "code",
   "execution_count": 14,
   "metadata": {},
   "outputs": [
    {
     "data": {
      "text/plain": [
       "1031"
      ]
     },
     "execution_count": 14,
     "metadata": {},
     "output_type": "execute_result"
    }
   ],
   "source": [
    "#До\n",
    "(orders.groupby('visitorId')['group'].nunique()>1).count()"
   ]
  },
  {
   "cell_type": "code",
   "execution_count": 15,
   "metadata": {},
   "outputs": [
    {
     "data": {
      "text/plain": [
       "973"
      ]
     },
     "execution_count": 15,
     "metadata": {},
     "output_type": "execute_result"
    }
   ],
   "source": [
    "#После \n",
    "orders = orders.loc[~orders['visitorId'].isin(visitors_AB)]\n",
    "(orders.groupby('visitorId')['group'].nunique()>1).count()"
   ]
  },
  {
   "cell_type": "code",
   "execution_count": 16,
   "metadata": {},
   "outputs": [
    {
     "name": "stdout",
     "output_type": "stream",
     "text": [
      "Количество заказов в группе А - 468\n",
      "Количество заказов в группе B - 548\n"
     ]
    }
   ],
   "source": [
    "print ('Количество заказов в группе А -', orders.query('group == \"A\"').shape[0])\n",
    "print ('Количество заказов в группе B -',orders.query('group == \"B\"').shape[0])"
   ]
  },
  {
   "cell_type": "markdown",
   "metadata": {},
   "source": [
    "Теперь разница заказов между группами уменьшилась до 80, однако в процентом соотношение разница увеличилась. Поделать с этим мы сейчас ничего не можем, учтем на будущее и продолжим как есть...\n",
    "\n",
    "Подготовим таблицу с куммулятивными данными по выручке и посещениям"
   ]
  },
  {
   "cell_type": "code",
   "execution_count": 17,
   "metadata": {},
   "outputs": [],
   "source": [
    "dates_groups = orders[['date','group']].drop_duplicates()"
   ]
  },
  {
   "cell_type": "code",
   "execution_count": 18,
   "metadata": {},
   "outputs": [],
   "source": [
    "orders_aggregated = (dates_groups\n",
    "                     .apply(lambda x: orders[np.logical_and(orders['date'] <= x['date']\n",
    "                                                            , orders['group'] ==  x['group'])]\n",
    "                    .agg({'date':'max', 'group':'max', 'revenue':'sum', 'transactionId':'nunique'}), axis=1) \n",
    "                    .sort_values(by=['date','group']))"
   ]
  },
  {
   "cell_type": "code",
   "execution_count": 19,
   "metadata": {},
   "outputs": [],
   "source": [
    "orders_aggregated.rename(columns={'transactionId':'orders'}, inplace=True)"
   ]
  },
  {
   "cell_type": "code",
   "execution_count": 20,
   "metadata": {},
   "outputs": [
    {
     "data": {
      "text/html": [
       "<div>\n",
       "<style scoped>\n",
       "    .dataframe tbody tr th:only-of-type {\n",
       "        vertical-align: middle;\n",
       "    }\n",
       "\n",
       "    .dataframe tbody tr th {\n",
       "        vertical-align: top;\n",
       "    }\n",
       "\n",
       "    .dataframe thead th {\n",
       "        text-align: right;\n",
       "    }\n",
       "</style>\n",
       "<table border=\"1\" class=\"dataframe\">\n",
       "  <thead>\n",
       "    <tr style=\"text-align: right;\">\n",
       "      <th></th>\n",
       "      <th>date</th>\n",
       "      <th>group</th>\n",
       "      <th>revenue</th>\n",
       "      <th>orders</th>\n",
       "    </tr>\n",
       "  </thead>\n",
       "  <tbody>\n",
       "    <tr>\n",
       "      <th>55</th>\n",
       "      <td>2019-08-01</td>\n",
       "      <td>A</td>\n",
       "      <td>142779</td>\n",
       "      <td>23</td>\n",
       "    </tr>\n",
       "    <tr>\n",
       "      <th>66</th>\n",
       "      <td>2019-08-01</td>\n",
       "      <td>B</td>\n",
       "      <td>59758</td>\n",
       "      <td>17</td>\n",
       "    </tr>\n",
       "    <tr>\n",
       "      <th>175</th>\n",
       "      <td>2019-08-02</td>\n",
       "      <td>A</td>\n",
       "      <td>234381</td>\n",
       "      <td>42</td>\n",
       "    </tr>\n",
       "    <tr>\n",
       "      <th>173</th>\n",
       "      <td>2019-08-02</td>\n",
       "      <td>B</td>\n",
       "      <td>221801</td>\n",
       "      <td>40</td>\n",
       "    </tr>\n",
       "    <tr>\n",
       "      <th>291</th>\n",
       "      <td>2019-08-03</td>\n",
       "      <td>A</td>\n",
       "      <td>346854</td>\n",
       "      <td>66</td>\n",
       "    </tr>\n",
       "  </tbody>\n",
       "</table>\n",
       "</div>"
      ],
      "text/plain": [
       "          date group  revenue  orders\n",
       "55  2019-08-01     A   142779      23\n",
       "66  2019-08-01     B    59758      17\n",
       "175 2019-08-02     A   234381      42\n",
       "173 2019-08-02     B   221801      40\n",
       "291 2019-08-03     A   346854      66"
      ]
     },
     "execution_count": 20,
     "metadata": {},
     "output_type": "execute_result"
    }
   ],
   "source": [
    "orders_aggregated.head()\n"
   ]
  },
  {
   "cell_type": "code",
   "execution_count": 21,
   "metadata": {},
   "outputs": [
    {
     "data": {
      "text/html": [
       "<div>\n",
       "<style scoped>\n",
       "    .dataframe tbody tr th:only-of-type {\n",
       "        vertical-align: middle;\n",
       "    }\n",
       "\n",
       "    .dataframe tbody tr th {\n",
       "        vertical-align: top;\n",
       "    }\n",
       "\n",
       "    .dataframe thead th {\n",
       "        text-align: right;\n",
       "    }\n",
       "</style>\n",
       "<table border=\"1\" class=\"dataframe\">\n",
       "  <thead>\n",
       "    <tr style=\"text-align: right;\">\n",
       "      <th></th>\n",
       "      <th>date</th>\n",
       "      <th>group</th>\n",
       "      <th>visitors</th>\n",
       "    </tr>\n",
       "  </thead>\n",
       "  <tbody>\n",
       "    <tr>\n",
       "      <th>55</th>\n",
       "      <td>2019-08-01</td>\n",
       "      <td>A</td>\n",
       "      <td>719</td>\n",
       "    </tr>\n",
       "    <tr>\n",
       "      <th>66</th>\n",
       "      <td>2019-08-01</td>\n",
       "      <td>B</td>\n",
       "      <td>713</td>\n",
       "    </tr>\n",
       "    <tr>\n",
       "      <th>175</th>\n",
       "      <td>2019-08-02</td>\n",
       "      <td>A</td>\n",
       "      <td>1338</td>\n",
       "    </tr>\n",
       "    <tr>\n",
       "      <th>173</th>\n",
       "      <td>2019-08-02</td>\n",
       "      <td>B</td>\n",
       "      <td>1294</td>\n",
       "    </tr>\n",
       "    <tr>\n",
       "      <th>291</th>\n",
       "      <td>2019-08-03</td>\n",
       "      <td>A</td>\n",
       "      <td>1845</td>\n",
       "    </tr>\n",
       "  </tbody>\n",
       "</table>\n",
       "</div>"
      ],
      "text/plain": [
       "          date group  visitors\n",
       "55  2019-08-01     A       719\n",
       "66  2019-08-01     B       713\n",
       "175 2019-08-02     A      1338\n",
       "173 2019-08-02     B      1294\n",
       "291 2019-08-03     A      1845"
      ]
     },
     "execution_count": 21,
     "metadata": {},
     "output_type": "execute_result"
    }
   ],
   "source": [
    "visitors_aggregated = (dates_groups\n",
    "                     .apply(lambda x: visitors[np.logical_and(visitors['date'] <= x['date']\n",
    "                                                            , visitors['group'] ==  x['group'])]\n",
    "                    .agg({'date':'max', 'group':'max', 'visitors':'sum'}), axis=1) \n",
    "                    .sort_values(by=['date','group']))\n",
    "visitors_aggregated.head()"
   ]
  },
  {
   "cell_type": "code",
   "execution_count": 22,
   "metadata": {},
   "outputs": [
    {
     "data": {
      "text/html": [
       "<div>\n",
       "<style scoped>\n",
       "    .dataframe tbody tr th:only-of-type {\n",
       "        vertical-align: middle;\n",
       "    }\n",
       "\n",
       "    .dataframe tbody tr th {\n",
       "        vertical-align: top;\n",
       "    }\n",
       "\n",
       "    .dataframe thead th {\n",
       "        text-align: right;\n",
       "    }\n",
       "</style>\n",
       "<table border=\"1\" class=\"dataframe\">\n",
       "  <thead>\n",
       "    <tr style=\"text-align: right;\">\n",
       "      <th></th>\n",
       "      <th>date</th>\n",
       "      <th>group</th>\n",
       "      <th>revenue</th>\n",
       "      <th>orders</th>\n",
       "      <th>visitors</th>\n",
       "    </tr>\n",
       "  </thead>\n",
       "  <tbody>\n",
       "    <tr>\n",
       "      <th>0</th>\n",
       "      <td>2019-08-01</td>\n",
       "      <td>A</td>\n",
       "      <td>142779</td>\n",
       "      <td>23</td>\n",
       "      <td>719</td>\n",
       "    </tr>\n",
       "    <tr>\n",
       "      <th>1</th>\n",
       "      <td>2019-08-01</td>\n",
       "      <td>B</td>\n",
       "      <td>59758</td>\n",
       "      <td>17</td>\n",
       "      <td>713</td>\n",
       "    </tr>\n",
       "    <tr>\n",
       "      <th>2</th>\n",
       "      <td>2019-08-02</td>\n",
       "      <td>A</td>\n",
       "      <td>234381</td>\n",
       "      <td>42</td>\n",
       "      <td>1338</td>\n",
       "    </tr>\n",
       "    <tr>\n",
       "      <th>3</th>\n",
       "      <td>2019-08-02</td>\n",
       "      <td>B</td>\n",
       "      <td>221801</td>\n",
       "      <td>40</td>\n",
       "      <td>1294</td>\n",
       "    </tr>\n",
       "    <tr>\n",
       "      <th>4</th>\n",
       "      <td>2019-08-03</td>\n",
       "      <td>A</td>\n",
       "      <td>346854</td>\n",
       "      <td>66</td>\n",
       "      <td>1845</td>\n",
       "    </tr>\n",
       "  </tbody>\n",
       "</table>\n",
       "</div>"
      ],
      "text/plain": [
       "        date group  revenue  orders  visitors\n",
       "0 2019-08-01     A   142779      23       719\n",
       "1 2019-08-01     B    59758      17       713\n",
       "2 2019-08-02     A   234381      42      1338\n",
       "3 2019-08-02     B   221801      40      1294\n",
       "4 2019-08-03     A   346854      66      1845"
      ]
     },
     "execution_count": 22,
     "metadata": {},
     "output_type": "execute_result"
    }
   ],
   "source": [
    "cumulative_data = orders_aggregated.merge(visitors_aggregated, on=['date','group'])\n",
    "cumulative_data.head()"
   ]
  },
  {
   "cell_type": "code",
   "execution_count": 23,
   "metadata": {},
   "outputs": [
    {
     "data": {
      "image/png": "[encoded data removed]",
      "text/plain": [
       "<Figure size 1000x500 with 1 Axes>"
      ]
     },
     "metadata": {},
     "output_type": "display_data"
    }
   ],
   "source": [
    "from pandas.plotting import register_matplotlib_converters\n",
    "register_matplotlib_converters() # обработка FutureWarning \n",
    "# Построим график кумулятивной выручки по группам, предварительно изучив количество заказов в каждой из групп\n",
    "cumulative_a = cumulative_data.loc[cumulative_data['group'] == 'A',['date','revenue','orders','visitors']]\n",
    "cumulative_b = cumulative_data.loc[cumulative_data['group'] == 'B',['date','revenue','orders','visitors']]\n",
    "\n",
    "plt.figure(figsize=(10, 5))\n",
    "plt.plot(cumulative_a['date'], cumulative_a['revenue'], label='A')\n",
    "plt.plot(cumulative_b['date'], cumulative_b['revenue'], label='B')\n",
    "plt.xticks(rotation=45)\n",
    "plt.title('Кумулятивная выручка по группам')\n",
    "plt.xlabel('Дата')\n",
    "plt.ylabel('Выручка')\n",
    "plt.legend();"
   ]
  },
  {
   "cell_type": "markdown",
   "metadata": {},
   "source": [
    "Группа А растет постепенно, в то время как в В есть резкий рост после 17.08\n",
    "\n",
    "Вероятно, там закрались очень большие покупки. Хорошо, что у нас в группе В больше заказов, при отсеивании аномалий мы только выровняем количество участников теста.\n",
    "\n",
    "Без этого же всплеска группы как буд-то похожи. Будем смотреть дальше, а пока построим график кумулятивного среднего чека по группам."
   ]
  },
  {
   "cell_type": "code",
   "execution_count": 24,
   "metadata": {},
   "outputs": [
    {
     "data": {
      "image/png": "[encoded data removed]",
      "text/plain": [
       "<Figure size 1000x500 with 1 Axes>"
      ]
     },
     "metadata": {},
     "output_type": "display_data"
    }
   ],
   "source": [
    "plt.figure(figsize=(10, 5))\n",
    "plt.plot(cumulative_a['date'], cumulative_a['revenue'] / cumulative_a['orders'], label='A')\n",
    "plt.plot(cumulative_b['date'], cumulative_b['revenue'] / cumulative_b['orders'], label='B')\n",
    "plt.xticks(rotation=45)\n",
    "plt.title('Кумулятивный средний чек по группам')\n",
    "plt.xlabel('Дата')\n",
    "plt.ylabel('Средний чек')\n",
    "plt.legend();"
   ]
  },
  {
   "cell_type": "markdown",
   "metadata": {},
   "source": [
    "Средний чек обеих групп выравнивается после 13.08. Однако, в очередной раз видим, что по группе В есть крупная покупка после 17.08 и после неё чек этой группы начинает снижаться."
   ]
  },
  {
   "cell_type": "code",
   "execution_count": 25,
   "metadata": {},
   "outputs": [],
   "source": [
    "# подготовим таблицу для графика относительного изменения кумулятивного среднего чека и построим график\n",
    "merged_cumulative = cumulative_a.merge(cumulative_b, on=['date'],suffixes=('_a', '_b'))"
   ]
  },
  {
   "cell_type": "code",
   "execution_count": 26,
   "metadata": {},
   "outputs": [
    {
     "data": {
      "text/html": [
       "<div>\n",
       "<style scoped>\n",
       "    .dataframe tbody tr th:only-of-type {\n",
       "        vertical-align: middle;\n",
       "    }\n",
       "\n",
       "    .dataframe tbody tr th {\n",
       "        vertical-align: top;\n",
       "    }\n",
       "\n",
       "    .dataframe thead th {\n",
       "        text-align: right;\n",
       "    }\n",
       "</style>\n",
       "<table border=\"1\" class=\"dataframe\">\n",
       "  <thead>\n",
       "    <tr style=\"text-align: right;\">\n",
       "      <th></th>\n",
       "      <th>date</th>\n",
       "      <th>revenue_a</th>\n",
       "      <th>orders_a</th>\n",
       "      <th>visitors_a</th>\n",
       "      <th>revenue_b</th>\n",
       "      <th>orders_b</th>\n",
       "      <th>visitors_b</th>\n",
       "    </tr>\n",
       "  </thead>\n",
       "  <tbody>\n",
       "    <tr>\n",
       "      <th>19</th>\n",
       "      <td>2019-08-20</td>\n",
       "      <td>2103613</td>\n",
       "      <td>309</td>\n",
       "      <td>12204</td>\n",
       "      <td>3768059</td>\n",
       "      <td>368</td>\n",
       "      <td>12218</td>\n",
       "    </tr>\n",
       "  </tbody>\n",
       "</table>\n",
       "</div>"
      ],
      "text/plain": [
       "         date  revenue_a  orders_a  visitors_a  revenue_b  orders_b  \\\n",
       "19 2019-08-20    2103613       309       12204    3768059       368   \n",
       "\n",
       "    visitors_b  \n",
       "19       12218  "
      ]
     },
     "execution_count": 26,
     "metadata": {},
     "output_type": "execute_result"
    }
   ],
   "source": [
    "merged_cumulative.sample()"
   ]
  },
  {
   "cell_type": "code",
   "execution_count": 27,
   "metadata": {},
   "outputs": [
    {
     "data": {
      "image/png": "[encoded data removed]",
      "text/plain": [
       "<Figure size 1000x500 with 1 Axes>"
      ]
     },
     "metadata": {},
     "output_type": "display_data"
    }
   ],
   "source": [
    "plt.figure(figsize=(10, 5))\n",
    "plt.plot(\n",
    "    merged_cumulative['date'],\n",
    "    (merged_cumulative['revenue_b'] / merged_cumulative['orders_b']) / (merged_cumulative['revenue_a'] / merged_cumulative['orders_a']) -1\n",
    ")\n",
    "plt.xticks(rotation=45)\n",
    "plt.title('Изменения относительного кумулятивного среднего чека')\n",
    "plt.xlabel('Дата')\n",
    "#plt.axis(ymin=-0.5, ymax=0.6)\n",
    "plt.axhline(y=0, color='grey', linestyle='-.');"
   ]
  },
  {
   "cell_type": "markdown",
   "metadata": {},
   "source": [
    "Очередное подтверждение того, что где-то прячутся крупные заказы. Однако отмечу, что раньше думал что они только где-то после 17.08, теперь думаю что они могут быть и в начале."
   ]
  },
  {
   "cell_type": "code",
   "execution_count": 28,
   "metadata": {},
   "outputs": [
    {
     "data": {
      "image/png": "[encoded data removed]",
      "text/plain": [
       "<Figure size 1000x500 with 1 Axes>"
      ]
     },
     "metadata": {},
     "output_type": "display_data"
    }
   ],
   "source": [
    "plt.figure(figsize=(10, 5))\n",
    "plt.plot(cumulative_a['date'], cumulative_a['orders'] / cumulative_a['visitors'], label='A')\n",
    "plt.plot(cumulative_b['date'], cumulative_b['orders'] / cumulative_b['visitors'], label='B')\n",
    "plt.xticks(rotation=45)\n",
    "plt.title('Кумулятивная конверсия по группам')\n",
    "plt.axis(xmin=cumulative_a['date'].min(), xmax=cumulative_a['date'].max(), ymin=.020, ymax=0.04)\n",
    "plt.xlabel('Дата')\n",
    "plt.legend();"
   ]
  },
  {
   "cell_type": "markdown",
   "metadata": {},
   "source": [
    "Получился интересный результат, на первых этапах конверсия в обеих группах \"прыгала\", но потом выровнялась, и по графику видно, что группа В лидирет.\n",
    "\n",
    "Разница между группами порядка 0.2% в абсолютном значение"
   ]
  },
  {
   "cell_type": "code",
   "execution_count": 29,
   "metadata": {},
   "outputs": [
    {
     "data": {
      "text/html": [
       "<div>\n",
       "<style scoped>\n",
       "    .dataframe tbody tr th:only-of-type {\n",
       "        vertical-align: middle;\n",
       "    }\n",
       "\n",
       "    .dataframe tbody tr th {\n",
       "        vertical-align: top;\n",
       "    }\n",
       "\n",
       "    .dataframe thead th {\n",
       "        text-align: right;\n",
       "    }\n",
       "</style>\n",
       "<table border=\"1\" class=\"dataframe\">\n",
       "  <thead>\n",
       "    <tr style=\"text-align: right;\">\n",
       "      <th></th>\n",
       "      <th>date</th>\n",
       "      <th>revenue_a</th>\n",
       "      <th>orders_a</th>\n",
       "      <th>visitors_a</th>\n",
       "      <th>revenue_b</th>\n",
       "      <th>orders_b</th>\n",
       "      <th>visitors_b</th>\n",
       "    </tr>\n",
       "  </thead>\n",
       "  <tbody>\n",
       "    <tr>\n",
       "      <th>1</th>\n",
       "      <td>2019-08-02</td>\n",
       "      <td>234381</td>\n",
       "      <td>42</td>\n",
       "      <td>1338</td>\n",
       "      <td>221801</td>\n",
       "      <td>40</td>\n",
       "      <td>1294</td>\n",
       "    </tr>\n",
       "  </tbody>\n",
       "</table>\n",
       "</div>"
      ],
      "text/plain": [
       "        date  revenue_a  orders_a  visitors_a  revenue_b  orders_b  visitors_b\n",
       "1 2019-08-02     234381        42        1338     221801        40        1294"
      ]
     },
     "execution_count": 29,
     "metadata": {},
     "output_type": "execute_result"
    }
   ],
   "source": [
    "merged_cumulative.sample()"
   ]
  },
  {
   "cell_type": "code",
   "execution_count": 30,
   "metadata": {},
   "outputs": [
    {
     "data": {
      "image/png": "[encoded data removed]",
      "text/plain": [
       "<Figure size 1000x500 with 1 Axes>"
      ]
     },
     "metadata": {},
     "output_type": "display_data"
    }
   ],
   "source": [
    "plt.figure(figsize=(10, 5))\n",
    "plt.plot(\n",
    "    merged_cumulative['date'],\n",
    "    (merged_cumulative['orders_b'] / merged_cumulative['visitors_b']) / (merged_cumulative['orders_a'] / merged_cumulative['visitors_a']) -1\n",
    ")\n",
    "plt.xticks(rotation=45)\n",
    "plt.title('График относительного изменения кумулятивной конверсии групп')\n",
    "plt.axis(xmin=merged_cumulative['date'].min(), xmax=merged_cumulative['date'].max(), ymin=-0.30, ymax=0.3)\n",
    "plt.axhline(y=0, color='grey', linestyle='-.')\n",
    "plt.xlabel('Дата')\n",
    "plt.axhline(y=0.15, color='black', linestyle='--');"
   ]
  },
  {
   "cell_type": "markdown",
   "metadata": {},
   "source": [
    "Группа B брала разгон в начале теста, и теперь стабильно и существенно обгоняет группу А\n",
    "\n",
    "Пришло время изучить аномалии, как было отмечено ранее, у нас наверняка есть аномально дорогие заказы. Со стоимости заказов и начнем."
   ]
  },
  {
   "cell_type": "code",
   "execution_count": 31,
   "metadata": {},
   "outputs": [
    {
     "data": {
      "image/png": "[encoded data removed]",
      "text/plain": [
       "<Figure size 640x480 with 1 Axes>"
      ]
     },
     "metadata": {},
     "output_type": "display_data"
    }
   ],
   "source": [
    "plt.hist(orders['revenue'])\n",
    "plt.title('Распределение revenue');"
   ]
  },
  {
   "cell_type": "code",
   "execution_count": 32,
   "metadata": {},
   "outputs": [
    {
     "data": {
      "image/png": "[encoded data removed]",
      "text/plain": [
       "<Figure size 1000x500 with 1 Axes>"
      ]
     },
     "metadata": {},
     "output_type": "display_data"
    }
   ],
   "source": [
    "x_values = pd.Series(range(0,orders['revenue'].count())) # сериес для \n",
    "\n",
    "plt.figure(figsize=(10, 5))\n",
    "sns.scatterplot(x=x_values, y=\"revenue\", hue=\"group\",\n",
    "                     data=orders)\n",
    "plt.grid()\n",
    "plt.title('Точечный график количества заказов');"
   ]
  },
  {
   "cell_type": "markdown",
   "metadata": {},
   "source": [
    "Вот оно, как и было отмечено ранее, средний чек и выручка по группе В сильно увеличивается за счет всего одного заказа. Посмотри еще чуть детальнее"
   ]
  },
  {
   "cell_type": "code",
   "execution_count": 33,
   "metadata": {},
   "outputs": [
    {
     "name": "stdout",
     "output_type": "stream",
     "text": [
      "[26785. 53904.]\n"
     ]
    },
    {
     "data": {
      "image/png": "[encoded data removed]",
      "text/plain": [
       "<Figure size 1000x500 with 1 Axes>"
      ]
     },
     "metadata": {},
     "output_type": "display_data"
    }
   ],
   "source": [
    "orders_clean = orders.query('revenue<200000')\n",
    "x_values = pd.Series(range(0,orders_clean['revenue'].count())) # сериес для оси Х\n",
    "plt.figure(figsize=(10, 5))\n",
    "sns.scatterplot(x=x_values, y=\"revenue\", hue=\"group\",\n",
    "                     data=orders_clean)\n",
    "plt.grid()\n",
    "plt.title('Точечный график количества заказов');\n",
    "print(np.percentile(orders['revenue'], [95, 99]))"
   ]
  },
  {
   "cell_type": "markdown",
   "metadata": {},
   "source": [
    "Тут уже все не так плохо, по этому принимаю решение убрать все что выше 99 перцентиля."
   ]
  },
  {
   "cell_type": "code",
   "execution_count": 34,
   "metadata": {},
   "outputs": [],
   "source": [
    "per_99 = np.percentile(orders['revenue'], [99])[0]\n",
    "orders_clean = orders.query('revenue<= @per_99')"
   ]
  },
  {
   "cell_type": "code",
   "execution_count": 35,
   "metadata": {},
   "outputs": [],
   "source": [
    "orders_by_users = (orders.groupby('visitorId')['revenue'].count()\n",
    "                   .reset_index()\n",
    "                   .rename(columns={'revenue':'orders'}))"
   ]
  },
  {
   "cell_type": "code",
   "execution_count": 36,
   "metadata": {},
   "outputs": [
    {
     "data": {
      "image/png": "[encoded data removed]",
      "text/plain": [
       "<Figure size 640x480 with 1 Axes>"
      ]
     },
     "metadata": {},
     "output_type": "display_data"
    }
   ],
   "source": [
    "orders_by_users['orders'].hist()\n",
    "plt.title('Распределение количества заказов');"
   ]
  },
  {
   "cell_type": "markdown",
   "metadata": {},
   "source": [
    "В основном клиенты делают 1, намного реже, 2 заказа и совсем редко 3."
   ]
  },
  {
   "cell_type": "code",
   "execution_count": 37,
   "metadata": {},
   "outputs": [
    {
     "name": "stdout",
     "output_type": "stream",
     "text": [
      "[1. 2.]\n"
     ]
    },
    {
     "data": {
      "image/png": "[encoded data removed]",
      "text/plain": [
       "<Figure size 640x480 with 1 Axes>"
      ]
     },
     "metadata": {},
     "output_type": "display_data"
    }
   ],
   "source": [
    "x_values = pd.Series(range(0,orders_by_users['orders'].count())) # сериес для оси х\n",
    "plt.scatter(data=orders_by_users, x=x_values, y='orders') \n",
    "plt.grid()\n",
    "plt.title('Точечный график количества заказов на пользователя')\n",
    "plt.yticks([0,1,2,3,4]);\n",
    "print(np.percentile(orders_by_users['orders'], [95, 99]))"
   ]
  },
  {
   "cell_type": "markdown",
   "metadata": {},
   "source": [
    "Основываясь на графике принимаем решение, что больше 2 заказов это уже перебор. Уберем таких пользователей."
   ]
  },
  {
   "cell_type": "code",
   "execution_count": 38,
   "metadata": {},
   "outputs": [],
   "source": [
    "per_99 = np.percentile(orders_by_users['orders'], [99])[0]\n",
    "orders_by_users_clean = orders_by_users.query('orders<= @per_99')"
   ]
  },
  {
   "cell_type": "code",
   "execution_count": 39,
   "metadata": {},
   "outputs": [],
   "source": [
    "orders_clean = orders_clean.loc[orders_clean['visitorId'].isin(orders_by_users_clean['visitorId'])]"
   ]
  },
  {
   "cell_type": "markdown",
   "metadata": {},
   "source": [
    "Вывод:\n",
    "\n",
    "Таким образом были изучены сырые данные и подготовлена таблица с данными заказов без аномалий. С учетом аномалий группа В казалась предпочтительнее, однако у неё были найдены серьезные аномалии. От которых мы благополучно избавились. Перейдем к заключительной части, постараемся наверняка узнать какая из групп предпочтительнее."
   ]
  },
  {
   "cell_type": "markdown",
   "metadata": {},
   "source": [
    "Часть 4. Статистическая значимость.\n",
    "\n",
    "Сырые данные.\n"
   ]
  },
  {
   "cell_type": "markdown",
   "metadata": {},
   "source": [
    "Соберем все данные по заказам и визитам (а также добавим кумулятивные показатели) в одну таблицу. Для этого создадим несколько таблиц и затем объединим их:"
   ]
  },
  {
   "cell_type": "code",
   "execution_count": 40,
   "metadata": {},
   "outputs": [
    {
     "data": {
      "text/html": [
       "<div>\n",
       "<style scoped>\n",
       "    .dataframe tbody tr th:only-of-type {\n",
       "        vertical-align: middle;\n",
       "    }\n",
       "\n",
       "    .dataframe tbody tr th {\n",
       "        vertical-align: top;\n",
       "    }\n",
       "\n",
       "    .dataframe thead th {\n",
       "        text-align: right;\n",
       "    }\n",
       "</style>\n",
       "<table border=\"1\" class=\"dataframe\">\n",
       "  <thead>\n",
       "    <tr style=\"text-align: right;\">\n",
       "      <th></th>\n",
       "      <th>date</th>\n",
       "      <th>group</th>\n",
       "      <th>visitors</th>\n",
       "    </tr>\n",
       "  </thead>\n",
       "  <tbody>\n",
       "    <tr>\n",
       "      <th>0</th>\n",
       "      <td>2019-08-01</td>\n",
       "      <td>A</td>\n",
       "      <td>719</td>\n",
       "    </tr>\n",
       "    <tr>\n",
       "      <th>1</th>\n",
       "      <td>2019-08-02</td>\n",
       "      <td>A</td>\n",
       "      <td>619</td>\n",
       "    </tr>\n",
       "  </tbody>\n",
       "</table>\n",
       "</div>"
      ],
      "text/plain": [
       "        date group  visitors\n",
       "0 2019-08-01     A       719\n",
       "1 2019-08-02     A       619"
      ]
     },
     "execution_count": 40,
     "metadata": {},
     "output_type": "execute_result"
    }
   ],
   "source": [
    "visitors.head(2)\n"
   ]
  },
  {
   "cell_type": "code",
   "execution_count": 41,
   "metadata": {},
   "outputs": [
    {
     "data": {
      "text/html": [
       "<div>\n",
       "<style scoped>\n",
       "    .dataframe tbody tr th:only-of-type {\n",
       "        vertical-align: middle;\n",
       "    }\n",
       "\n",
       "    .dataframe tbody tr th {\n",
       "        vertical-align: top;\n",
       "    }\n",
       "\n",
       "    .dataframe thead th {\n",
       "        text-align: right;\n",
       "    }\n",
       "</style>\n",
       "<table border=\"1\" class=\"dataframe\">\n",
       "  <thead>\n",
       "    <tr style=\"text-align: right;\">\n",
       "      <th></th>\n",
       "      <th>transactionId</th>\n",
       "      <th>visitorId</th>\n",
       "      <th>date</th>\n",
       "      <th>revenue</th>\n",
       "      <th>group</th>\n",
       "    </tr>\n",
       "  </thead>\n",
       "  <tbody>\n",
       "    <tr>\n",
       "      <th>0</th>\n",
       "      <td>3667963787</td>\n",
       "      <td>3312258926</td>\n",
       "      <td>2019-08-15</td>\n",
       "      <td>1650</td>\n",
       "      <td>B</td>\n",
       "    </tr>\n",
       "    <tr>\n",
       "      <th>1</th>\n",
       "      <td>2804400009</td>\n",
       "      <td>3642806036</td>\n",
       "      <td>2019-08-15</td>\n",
       "      <td>730</td>\n",
       "      <td>B</td>\n",
       "    </tr>\n",
       "  </tbody>\n",
       "</table>\n",
       "</div>"
      ],
      "text/plain": [
       "   transactionId   visitorId       date  revenue group\n",
       "0     3667963787  3312258926 2019-08-15     1650     B\n",
       "1     2804400009  3642806036 2019-08-15      730     B"
      ]
     },
     "execution_count": 41,
     "metadata": {},
     "output_type": "execute_result"
    }
   ],
   "source": [
    "orders.head(2)\n"
   ]
  },
  {
   "cell_type": "code",
   "execution_count": 42,
   "metadata": {},
   "outputs": [],
   "source": [
    "visitorsADaily = visitors[visitors['group']=='A'][['date', 'visitors']]\n",
    "visitorsADaily.columns = ['date', 'visitorsPerDateA']\n",
    "\n",
    "visitorsACummulative = visitorsADaily.apply(lambda x: visitorsADaily[visitorsADaily['date'] <= x['date']]. \\\n",
    "                                            agg({'date' : 'max', 'visitorsPerDateA' : 'sum'}), axis=1)\n",
    "visitorsACummulative.columns = ['date', 'visitorsCummulativeA']\n",
    "\n",
    "visitorsBDaily = visitors[visitors['group']=='B'][['date', 'visitors']]\n",
    "visitorsBDaily.columns = ['date', 'visitorsPerDateB']\n",
    "\n",
    "visitorsBCummulative = visitorsBDaily.apply(lambda x: visitorsBDaily[visitorsBDaily['date'] <= x['date']]. \\\n",
    "                                            agg({'date' : 'max', 'visitorsPerDateB' : 'sum'}), axis=1)\n",
    "visitorsBCummulative.columns = ['date', 'visitorsCummulativeB']\n",
    "\n",
    "\n",
    "ordersADaily = orders[orders['group']=='A'][['date', 'transactionId', 'visitorId', 'revenue']]\\\n",
    "    .groupby('date', as_index=False)\\\n",
    "    .agg({'transactionId' : pd.Series.nunique, 'revenue' : 'sum'})\n",
    "ordersADaily.columns = ['date', 'ordersPerDateA', 'revenuePerDateA']\n",
    "\n",
    "ordersACummulative = ordersADaily.apply(\n",
    "    lambda x: \\\n",
    "        ordersADaily[ordersADaily['date'] <= x['date']]\\\n",
    "            .agg({\n",
    "                'date' : 'max',\n",
    "                'ordersPerDateA' : 'sum',\n",
    "                'revenuePerDateA' : 'sum'}), axis=1).sort_values(by=['date'])\n",
    "ordersACummulative.columns = ['date', 'ordersCummulativeA', 'revenueCummulativeA']\n",
    "\n",
    "ordersBDaily = orders[orders['group']=='B'][['date', 'transactionId', 'visitorId', 'revenue']]\\\n",
    "    .groupby('date', as_index=False)\\\n",
    "    .agg({'transactionId' : pd.Series.nunique, 'revenue' : 'sum'})\n",
    "ordersBDaily.columns = ['date', 'ordersPerDateB', 'revenuePerDateB']\n",
    "\n",
    "ordersBCummulative = ordersBDaily.apply(\n",
    "    lambda x: \\\n",
    "        ordersBDaily[ordersBDaily['date'] <= x['date']]\\\n",
    "            .agg({\n",
    "                'date' : 'max',\n",
    "                'ordersPerDateB' : 'sum',\n",
    "                'revenuePerDateB' : 'sum'}), axis=1).sort_values(by=['date'])\n",
    "ordersBCummulative.columns = ['date', 'ordersCummulativeB', 'revenueCummulativeB']"
   ]
  },
  {
   "cell_type": "markdown",
   "metadata": {},
   "source": [
    "Собираю все в одну таблицу"
   ]
  },
  {
   "cell_type": "code",
   "execution_count": 43,
   "metadata": {},
   "outputs": [
    {
     "data": {
      "text/html": [
       "<div>\n",
       "<style scoped>\n",
       "    .dataframe tbody tr th:only-of-type {\n",
       "        vertical-align: middle;\n",
       "    }\n",
       "\n",
       "    .dataframe tbody tr th {\n",
       "        vertical-align: top;\n",
       "    }\n",
       "\n",
       "    .dataframe thead th {\n",
       "        text-align: right;\n",
       "    }\n",
       "</style>\n",
       "<table border=\"1\" class=\"dataframe\">\n",
       "  <thead>\n",
       "    <tr style=\"text-align: right;\">\n",
       "      <th></th>\n",
       "      <th>date</th>\n",
       "      <th>ordersPerDateA</th>\n",
       "      <th>revenuePerDateA</th>\n",
       "      <th>ordersPerDateB</th>\n",
       "      <th>revenuePerDateB</th>\n",
       "      <th>ordersCummulativeA</th>\n",
       "      <th>revenueCummulativeA</th>\n",
       "      <th>ordersCummulativeB</th>\n",
       "      <th>revenueCummulativeB</th>\n",
       "      <th>visitorsPerDateA</th>\n",
       "      <th>visitorsPerDateB</th>\n",
       "      <th>visitorsCummulativeA</th>\n",
       "      <th>visitorsCummulativeB</th>\n",
       "    </tr>\n",
       "  </thead>\n",
       "  <tbody>\n",
       "    <tr>\n",
       "      <th>1</th>\n",
       "      <td>2019-08-02</td>\n",
       "      <td>19</td>\n",
       "      <td>91602</td>\n",
       "      <td>23</td>\n",
       "      <td>162043</td>\n",
       "      <td>42</td>\n",
       "      <td>234381</td>\n",
       "      <td>40</td>\n",
       "      <td>221801</td>\n",
       "      <td>619</td>\n",
       "      <td>581</td>\n",
       "      <td>1338</td>\n",
       "      <td>1294</td>\n",
       "    </tr>\n",
       "    <tr>\n",
       "      <th>29</th>\n",
       "      <td>2019-08-30</td>\n",
       "      <td>9</td>\n",
       "      <td>78180</td>\n",
       "      <td>21</td>\n",
       "      <td>209223</td>\n",
       "      <td>460</td>\n",
       "      <td>3311413</td>\n",
       "      <td>531</td>\n",
       "      <td>4955833</td>\n",
       "      <td>490</td>\n",
       "      <td>490</td>\n",
       "      <td>18037</td>\n",
       "      <td>18198</td>\n",
       "    </tr>\n",
       "    <tr>\n",
       "      <th>17</th>\n",
       "      <td>2019-08-18</td>\n",
       "      <td>13</td>\n",
       "      <td>59581</td>\n",
       "      <td>7</td>\n",
       "      <td>35323</td>\n",
       "      <td>278</td>\n",
       "      <td>1876741</td>\n",
       "      <td>327</td>\n",
       "      <td>2190865</td>\n",
       "      <td>668</td>\n",
       "      <td>737</td>\n",
       "      <td>11127</td>\n",
       "      <td>11171</td>\n",
       "    </tr>\n",
       "  </tbody>\n",
       "</table>\n",
       "</div>"
      ],
      "text/plain": [
       "         date  ordersPerDateA  revenuePerDateA  ordersPerDateB  \\\n",
       "1  2019-08-02              19            91602              23   \n",
       "29 2019-08-30               9            78180              21   \n",
       "17 2019-08-18              13            59581               7   \n",
       "\n",
       "    revenuePerDateB  ordersCummulativeA  revenueCummulativeA  \\\n",
       "1            162043                  42               234381   \n",
       "29           209223                 460              3311413   \n",
       "17            35323                 278              1876741   \n",
       "\n",
       "    ordersCummulativeB  revenueCummulativeB  visitorsPerDateA  \\\n",
       "1                   40               221801               619   \n",
       "29                 531              4955833               490   \n",
       "17                 327              2190865               668   \n",
       "\n",
       "    visitorsPerDateB  visitorsCummulativeA  visitorsCummulativeB  \n",
       "1                581                  1338                  1294  \n",
       "29               490                 18037                 18198  \n",
       "17               737                 11127                 11171  "
      ]
     },
     "execution_count": 43,
     "metadata": {},
     "output_type": "execute_result"
    }
   ],
   "source": [
    "data = ordersADaily.merge(ordersBDaily, left_on='date', right_on='date', how='left')\\\n",
    "    .merge(ordersACummulative, left_on='date', right_on='date', how='left')\\\n",
    "    .merge(ordersBCummulative, left_on='date', right_on='date', how='left')\\\n",
    "    .merge(visitorsADaily, left_on='date', right_on='date', how='left')\\\n",
    "    .merge(visitorsBDaily, left_on='date', right_on='date', how='left')\\\n",
    "    .merge(visitorsACummulative, left_on='date', right_on='date', how='left')\\\n",
    "    .merge(visitorsBCummulative, left_on='date', right_on='date', how='left')\n",
    "data.sample(3)"
   ]
  },
  {
   "cell_type": "markdown",
   "metadata": {},
   "source": [
    "Применим критерий и отформатируем p-value, округлив его до трёх знаков после запятой. В sampleA сохраним выборку, где каждый элемент — число заказов определённого пользователя, в том числе ноль. Значит, число элементов sampleA — это количество пользователей, сумма всех элементов — количество заказов. Чтобы получить конверсию в группе, поделим сумму заказов на число пользователей — найдём среднее в выборке sampleA методом mean(). Аналогично найдём конверсию группы B: SampleB.mean().\n",
    "Выведем относительный прирост конверсии группы B: конверсия группы B / конверсия группы A - 1. Округлим до трёх знаков после запятой (пороговое значение возьмём равное 5%).\n",
    "\n",
    "За нулевую гипотезу возьмём что: \"статистически значимых различий в конверсии между группами нет\"; тогда альтернативная гипотеза будет гласить - статистически значимые различия есть."
   ]
  },
  {
   "cell_type": "code",
   "execution_count": 44,
   "metadata": {},
   "outputs": [
    {
     "name": "stdout",
     "output_type": "stream",
     "text": [
      "alpha = 0.05\n",
      "p-value = 0.011\n",
      "Относительный показатель 'B' и 'A' = 0.160\n"
     ]
    }
   ],
   "source": [
    "ordersByUsersA = orders[orders['group']=='A'].groupby('visitorId', as_index=False).agg({'transactionId' : pd.Series.nunique})\n",
    "ordersByUsersA.columns = ['userId', 'orders']\n",
    "\n",
    "ordersByUsersB = orders[orders['group']=='B'].groupby('visitorId', as_index=False).agg({'transactionId' : pd.Series.nunique})\n",
    "ordersByUsersB.columns = ['userId', 'orders']\n",
    "\n",
    "sampleA = pd.concat([ordersByUsersA['orders'],pd.Series(0, index=np.arange(data['visitorsPerDateA'].sum() - len(ordersByUsersA['orders'])), name='orders')],axis=0)\n",
    "\n",
    "sampleB = pd.concat([ordersByUsersB['orders'],pd.Series(0, index=np.arange(data['visitorsPerDateB'].sum() - len(ordersByUsersB['orders'])), name='orders')],axis=0)\n",
    "\n",
    "print(\"alpha =\",0.05)\n",
    "print(\"p-value = {0:.3f}\".format(st.mannwhitneyu(sampleA, sampleB, alternative = 'two-sided')[1]))\n",
    "print(\"Относительный показатель 'B' и 'A' = {0:.3f}\".format(sampleB.mean()/sampleA.mean()-1)) "
   ]
  },
  {
   "cell_type": "markdown",
   "metadata": {},
   "source": [
    "*Вывод: p-value = 0.011 меньше 0.05. Значит, нулевую гипотезу о том, что статистически значимых различий в конверсии между группами нет, - отвергаем. Это значит: по «сырым» данным различия в конверсии групп A и B есть. А относительный выигрыш группы \"B\" над \"A\" равен 16.8%"
   ]
  },
  {
   "cell_type": "code",
   "execution_count": 45,
   "metadata": {},
   "outputs": [
    {
     "data": {
      "text/plain": [
       "(0    18291\n",
       " 1      427\n",
       " 2       13\n",
       " 3        5\n",
       " Name: orders, dtype: int64,\n",
       " 0    18388\n",
       " 1      510\n",
       " 2       16\n",
       " 3        2\n",
       " Name: orders, dtype: int64)"
      ]
     },
     "execution_count": 45,
     "metadata": {},
     "output_type": "execute_result"
    }
   ],
   "source": [
    "#посмотрим сколько посетители делают определенное кол-во заказов\n",
    "sampleA.value_counts() , sampleB.value_counts()"
   ]
  },
  {
   "cell_type": "markdown",
   "metadata": {},
   "source": [
    "Очищенные данные"
   ]
  },
  {
   "cell_type": "markdown",
   "metadata": {},
   "source": [
    "Ранее уже была подготовлена таблица с \"чистыми\" заказами, испольуем её и код для сырых данных."
   ]
  },
  {
   "cell_type": "code",
   "execution_count": 46,
   "metadata": {},
   "outputs": [],
   "source": [
    "# таблицы с данными по заказам на каждого пользователя (очищенная)\n",
    "# по хорошему, можно дополнить старые название таблицы приставкой, например, _clean\n",
    "# но для экономии времени делать этого не буду\n",
    "orders_by_usersA = orders_clean[orders_clean['group']=='A'].groupby('visitorId')['transactionId'].nunique().reset_index()\n",
    "orders_by_usersA.columns=['visitorsId','orders']\n",
    "\n",
    "orders_by_usersB = orders_clean[orders_clean['group']=='B'].groupby('visitorId')['transactionId'].nunique().reset_index()\n",
    "orders_by_usersB.columns=['visitorsId','orders']"
   ]
  },
  {
   "cell_type": "code",
   "execution_count": 47,
   "metadata": {},
   "outputs": [],
   "source": [
    "freeloadersA = pd.Series(0, index=np.arange(visitors[visitors['group']=='A']['visitors'].sum() - len(orders_by_usersA['orders'])), name='orders')\n",
    "freeloadersB = pd.Series(0, index=np.arange(visitors[visitors['group']=='B']['visitors'].sum() - len(orders_by_usersB['orders'])), name='orders')\n"
   ]
  },
  {
   "cell_type": "code",
   "execution_count": 48,
   "metadata": {},
   "outputs": [],
   "source": [
    "# создаем выборки с чистыми данными для стат тестов\n",
    "sampleA = pd.concat([orders_by_usersA['orders'], freeloadersA])\n",
    "sampleB = pd.concat([orders_by_usersB['orders'], freeloadersB])"
   ]
  },
  {
   "cell_type": "code",
   "execution_count": 49,
   "metadata": {},
   "outputs": [
    {
     "name": "stdout",
     "output_type": "stream",
     "text": [
      "p_value: 0.00695\n",
      "Средняя конверсия (очищенная) группы А: 2.4%\n",
      "Средняя конверсия (очищенная) группы B: 2.8%\n"
     ]
    }
   ],
   "source": [
    "print('p_value: {:.5f}'.format(st.mannwhitneyu(sampleA, sampleB)[1]))\n",
    "print('Средняя конверсия (очищенная) группы А: {:.1%}'.format(sampleA.mean()))\n",
    "print('Средняя конверсия (очищенная) группы B: {:.1%}'.format(sampleB.mean()))\n"
   ]
  },
  {
   "cell_type": "markdown",
   "metadata": {},
   "source": [
    "На очищенных данных ситуация с конверсией почти не изменилась, только конверсия немного уменьшилась. Группа В, по прежнему, в лидерах по конверсии. Отвергаем H0 о равенстве конверсий.\n",
    "\n"
   ]
  },
  {
   "cell_type": "code",
   "execution_count": 50,
   "metadata": {},
   "outputs": [
    {
     "name": "stdout",
     "output_type": "stream",
     "text": [
      "p_value: 0.78770\n",
      "Средний чек (очищенный) группы А: 6487.02\n",
      "Средний чек (очищенный) группы B: 6277.27\n"
     ]
    }
   ],
   "source": [
    "print('p_value: {:.5f}'.format(\n",
    "    st.mannwhitneyu(orders_clean[orders_clean['group']=='A']['revenue'], orders_clean[orders_clean['group']=='B']['revenue'])[1]\n",
    "))\n",
    "print('Средний чек (очищенный) группы А: {:.2f}'.format(orders_clean[orders_clean['group']=='A']['revenue'].mean()))\n",
    "print('Средний чек (очищенный) группы B: {:.2f}'.format(orders_clean[orders_clean['group']=='B']['revenue'].mean()))"
   ]
  },
  {
   "cell_type": "markdown",
   "metadata": {},
   "source": [
    "Такая же ситуация с тестом и по среднему чеку, мы по прежнему не можем отвергнуть нулевую гипотезу о равенстве среднего чека. Однако, средние чеки значительно выровнялись, больше нет такой большой разницы между группа А и В по среднему чеку.\n",
    "\n",
    "Подготовим данные для визуализации куммулитивной выручки по очищенным данным, переиспользуем код из начала тетрадки"
   ]
  },
  {
   "cell_type": "code",
   "execution_count": 51,
   "metadata": {},
   "outputs": [],
   "source": [
    "orders_aggregated = (dates_groups\n",
    "                     .apply(lambda x: orders_clean[np.logical_and(orders_clean['date'] <= x['date']\n",
    "                                                            , orders_clean['group'] ==  x['group'])]\n",
    "                    .agg({'date':'max', 'group':'max', 'revenue':'sum', 'transactionId':'nunique'}), axis=1) \n",
    "                    .sort_values(by=['date','group']))\n",
    "                    \n",
    "orders_aggregated.rename(columns={'transactionId':'orders_clean'}, inplace=True)\n",
    "\n",
    "visitors_aggregated = (dates_groups\n",
    "                     .apply(lambda x: visitors[np.logical_and(visitors['date'] <= x['date']\n",
    "                                                            , visitors['group'] ==  x['group'])]\n",
    "                    .agg({'date':'max', 'group':'max', 'visitors':'sum'}), axis=1) \n",
    "                    .sort_values(by=['date','group']))\n",
    "visitors_aggregated.head()\n",
    "\n",
    "cumulative_data = orders_aggregated.merge(visitors_aggregated, on=['date','group'])\n",
    "cumulative_data.head()\n",
    "\n",
    "\n",
    "\n",
    "from pandas.plotting import register_matplotlib_converters\n",
    "register_matplotlib_converters()\n",
    "# Построим график кумулятивной выручки по группам, предварительно изучив количество заказов в каждой из групп\n",
    "cumulative_a = cumulative_data.loc[cumulative_data['group'] == 'A',['date','revenue','orders_clean','visitors']]\n",
    "cumulative_b = cumulative_data.loc[cumulative_data['group'] == 'B',['date','revenue','orders_clean','visitors']]\n"
   ]
  },
  {
   "cell_type": "code",
   "execution_count": 52,
   "metadata": {},
   "outputs": [
    {
     "name": "stderr",
     "output_type": "stream",
     "text": [
      "/var/folders/1n/cv6zz_pd36l1whz8vx_0bw400000gn/T/ipykernel_21845/4070742223.py:1: MatplotlibDeprecationWarning: The seaborn styles shipped by Matplotlib are deprecated since 3.6, as they no longer correspond to the styles shipped by seaborn. However, they will remain available as 'seaborn-v0_8-<style>'. Alternatively, directly use the seaborn API instead.\n",
      "  plt.style.use('seaborn-poster')\n"
     ]
    },
    {
     "data": {
      "image/png": "[encoded data removed]",
      "text/plain": [
       "<Figure size 1000x500 with 1 Axes>"
      ]
     },
     "metadata": {},
     "output_type": "display_data"
    }
   ],
   "source": [
    "plt.style.use('seaborn-poster')\n",
    "plt.figure(figsize=(10, 5))\n",
    "plt.plot(cumulative_a['date'], cumulative_a['revenue'], label='A')\n",
    "plt.plot(cumulative_b['date'], cumulative_b['revenue'], label='B')\n",
    "plt.xticks(rotation=45)\n",
    "plt.title('Кумулятивная выручка по группам на чистых данных')\n",
    "plt.xlabel('Дата')\n",
    "plt.legend(loc='best');"
   ]
  },
  {
   "cell_type": "markdown",
   "metadata": {},
   "source": [
    "В предобработке данных, я рассмотрел таблицы,поработал со стилем и привел к хорошему стилю, проверил данные на дубликаты и пропуски, изменил типы данных, где это было нужно. Подготовил данные для дальнейшего исследования. В части приоритизация гипотез предоставленных отделом Маркетинга, обращаю внимание на следующие гипотезы:\n",
    "\n",
    "Запустить акцию, позволяющую получить скидку в день рождение\n",
    "Добавить два новых канала по привлечению трафика, это позволит привлекать на 30% больше.\n",
    "Добавить форму подписи, для сбора email адресов, чтобы сделать базу для рассылок В случае с ранжированием, они должны включать в себя охват пользователей интернет-магазина, то разделяю это следущим образом\n",
    "Добавить форму подписи на все основные страницы, для сбора email адресов.\n",
    "Сделать блоки рекомендаций товаров на сайт интернет-магазина, для повышения среднего чека и конверсии.\n",
    "Добавить два новых канала привлечения трафика.\n",
    "\n",
    "Вывод\n",
    "По результатам проведенного анализа, на чистых данных, была выявлена стат значимость в конверсих двух групп, конверсия в группе В выше. И на графике выше, хоть он и на грязных данных, мы видим что конверсия группы В зафиксировалась примерно на одном уровне.\n",
    "\n",
    "В среднем чеке групп не было найден стат значимых различий. Хоть и у группы В он немного меньше.\n",
    "\n",
    "Учитывая что конверсия группы В больше чем у группы А и больший размер куммулитивной выручки, принимаем решение остановить тест и зафиксировать победу группы В.\n",
    "\n",
    "PS Нужно сделать разработчикам замечание касательно того, что одни и теже клиенты попадали в разные группы, что могло повлиять на результаты."
   ]
  },
  {
   "cell_type": "markdown",
   "metadata": {},
   "source": [
    "<div class=\"alert alert-block alert-success\">\n",
    "\n",
    "**Комментарий ревьювера (все отлично)**\n",
    "    \n",
    "Согласен с решением. Тест прошел успешно! Среднее количество заказов увеличилось при отсутствии значимых изменений по среднему чеку -> выручка увеличилась, так как стали покупать чаще.\n",
    "</div>"
   ]
  },
  {
   "cell_type": "markdown",
   "metadata": {},
   "source": [
    "<div class=\"alert alert-block alert-danger\">\n",
    "    \n",
    "**Комментарий ревьювера (недочет, который нужно доработать)**\n",
    "    \n",
    "Требуется сформулировать общий вывод с отображением всех итогов проекта, в том числе по приоритезации гипотез.\n",
    "\n",
    "</div>"
   ]
  },
  {
   "cell_type": "markdown",
   "metadata": {},
   "source": [
    "<div class=\"alert alert-block alert-success\">\n",
    "\n",
    "**Комментарий ревьювера v2 (все отлично)**\n",
    "    \n",
    "Все основные результаты проекта отражены👍\n",
    "</div>"
   ]
  },
  {
   "cell_type": "markdown",
   "metadata": {},
   "source": [
    "<div class=\"alert alert-block alert-warning\">\n",
    "\n",
    "**Комментарий ревьювера (общий вывод)**\n",
    "    \n",
    "Филипп, мне понравилась твоя работа! Выводы хорошо структурированы и достаточно содержательны, умеешь считать перцентили, определять аномалии, качественно проводишь проверку гипотез. Спасибо за четкие комментарии по результатам исследования, аккуратный код и качественное оформление отчета! Это упростило проверку. Для принятия твоей работы нужно исправить критические недочёты:\n",
    "    \n",
    "* объяснить отличие фреймворков;\n",
    "* оформить графики;\n",
    "* полностью убрать аномальные данные (сразу по двум показателям);\n",
    "* дополнить общий вывод.\n",
    "    \n",
    "В дополнении прикрепляю несколько полезных материалов по теме A/B-тестирования: \n",
    "    \n",
    "* https://medium.com/statistics-experiments \n",
    "* https://your-scorpion.ru/ab-tests-check-mathematics/\n",
    "    \n",
    "Жду твою работу!\n",
    "  \n",
    "</div>"
   ]
  }
 ],
 "metadata": {
  "ExecuteTimeLog": [
   {
    "duration": 1399,
    "start_time": "2023-04-22T11:41:46.677Z"
   },
   {
    "duration": 3,
    "start_time": "2023-04-22T12:02:10.046Z"
   },
   {
    "duration": 285,
    "start_time": "2023-04-22T12:02:12.465Z"
   },
   {
    "duration": 62,
    "start_time": "2023-04-22T12:04:58.235Z"
   },
   {
    "duration": 42,
    "start_time": "2023-04-22T12:05:15.447Z"
   },
   {
    "duration": 4,
    "start_time": "2023-04-22T12:06:26.175Z"
   },
   {
    "duration": 41,
    "start_time": "2023-04-22T12:06:43.341Z"
   },
   {
    "duration": 17,
    "start_time": "2023-04-22T12:07:21.928Z"
   },
   {
    "duration": 27,
    "start_time": "2023-04-22T12:07:55.757Z"
   },
   {
    "duration": 17,
    "start_time": "2023-04-22T12:08:08.655Z"
   },
   {
    "duration": 13,
    "start_time": "2023-04-22T12:18:03.364Z"
   },
   {
    "duration": 13,
    "start_time": "2023-04-22T12:19:28.240Z"
   },
   {
    "duration": 24,
    "start_time": "2023-04-22T12:22:47.213Z"
   },
   {
    "duration": 6,
    "start_time": "2023-04-22T12:23:13.899Z"
   },
   {
    "duration": 5,
    "start_time": "2023-04-22T12:23:25.194Z"
   },
   {
    "duration": 5,
    "start_time": "2023-04-22T12:23:32.806Z"
   },
   {
    "duration": 6,
    "start_time": "2023-04-22T12:24:20.339Z"
   },
   {
    "duration": 9,
    "start_time": "2023-04-22T12:24:35.166Z"
   },
   {
    "duration": 12,
    "start_time": "2023-04-22T12:25:19.284Z"
   },
   {
    "duration": 192,
    "start_time": "2023-04-22T12:25:36.706Z"
   },
   {
    "duration": 5,
    "start_time": "2023-04-22T12:25:45.653Z"
   },
   {
    "duration": 10,
    "start_time": "2023-04-22T12:25:54.062Z"
   },
   {
    "duration": 189,
    "start_time": "2023-04-22T12:26:13.656Z"
   },
   {
    "duration": 23,
    "start_time": "2023-04-22T12:26:47.271Z"
   },
   {
    "duration": 386,
    "start_time": "2023-04-22T12:27:02.539Z"
   },
   {
    "duration": 274,
    "start_time": "2023-04-22T12:27:43.079Z"
   },
   {
    "duration": 9,
    "start_time": "2023-04-22T12:28:17.893Z"
   },
   {
    "duration": 14,
    "start_time": "2023-04-22T12:28:30.575Z"
   },
   {
    "duration": 381,
    "start_time": "2023-04-22T12:28:42.069Z"
   },
   {
    "duration": 254,
    "start_time": "2023-04-22T12:29:08.208Z"
   },
   {
    "duration": 108,
    "start_time": "2023-04-22T12:29:18.987Z"
   },
   {
    "duration": 10,
    "start_time": "2023-04-22T12:29:36.690Z"
   },
   {
    "duration": 8,
    "start_time": "2023-04-22T12:31:04.441Z"
   },
   {
    "duration": 15,
    "start_time": "2023-04-22T12:31:04.914Z"
   },
   {
    "duration": 12,
    "start_time": "2023-04-22T12:31:44.228Z"
   },
   {
    "duration": 11,
    "start_time": "2023-04-22T12:31:44.782Z"
   },
   {
    "duration": 6,
    "start_time": "2023-04-22T12:31:53.641Z"
   },
   {
    "duration": 108,
    "start_time": "2023-04-22T12:31:54.162Z"
   },
   {
    "duration": 46,
    "start_time": "2023-04-22T12:31:54.939Z"
   },
   {
    "duration": 5,
    "start_time": "2023-04-22T12:31:55.841Z"
   },
   {
    "duration": 38,
    "start_time": "2023-04-22T12:31:57.037Z"
   },
   {
    "duration": 13,
    "start_time": "2023-04-22T12:31:57.695Z"
   },
   {
    "duration": 36,
    "start_time": "2023-04-22T12:31:58.297Z"
   },
   {
    "duration": 22,
    "start_time": "2023-04-22T12:31:58.998Z"
   },
   {
    "duration": 18,
    "start_time": "2023-04-22T12:32:01.601Z"
   },
   {
    "duration": 34,
    "start_time": "2023-04-22T12:32:03.005Z"
   },
   {
    "duration": 19,
    "start_time": "2023-04-22T12:32:04.248Z"
   },
   {
    "duration": 10,
    "start_time": "2023-04-22T12:32:51.078Z"
   },
   {
    "duration": 4,
    "start_time": "2023-04-22T12:42:47.908Z"
   },
   {
    "duration": 80,
    "start_time": "2023-04-22T12:42:48.387Z"
   },
   {
    "duration": 50,
    "start_time": "2023-04-22T12:42:48.976Z"
   },
   {
    "duration": 9,
    "start_time": "2023-04-22T12:42:49.977Z"
   },
   {
    "duration": 8,
    "start_time": "2023-04-22T12:43:04.125Z"
   },
   {
    "duration": 38,
    "start_time": "2023-04-22T12:43:04.869Z"
   },
   {
    "duration": 12,
    "start_time": "2023-04-22T12:43:05.692Z"
   },
   {
    "duration": 28,
    "start_time": "2023-04-22T12:43:06.342Z"
   },
   {
    "duration": 14,
    "start_time": "2023-04-22T12:43:07.042Z"
   },
   {
    "duration": 10,
    "start_time": "2023-04-22T12:49:35.450Z"
   },
   {
    "duration": 3,
    "start_time": "2023-04-22T12:49:50.058Z"
   },
   {
    "duration": 102,
    "start_time": "2023-04-22T12:49:50.602Z"
   },
   {
    "duration": 38,
    "start_time": "2023-04-22T12:49:51.250Z"
   },
   {
    "duration": 9,
    "start_time": "2023-04-22T12:49:56.049Z"
   },
   {
    "duration": 10,
    "start_time": "2023-04-22T12:52:52.125Z"
   },
   {
    "duration": 8,
    "start_time": "2023-04-22T12:53:06.146Z"
   },
   {
    "duration": 8,
    "start_time": "2023-04-22T12:53:10.271Z"
   },
   {
    "duration": 9,
    "start_time": "2023-04-22T12:53:16.633Z"
   },
   {
    "duration": 9,
    "start_time": "2023-04-22T12:53:21.078Z"
   },
   {
    "duration": 11,
    "start_time": "2023-04-22T12:53:23.880Z"
   },
   {
    "duration": 9,
    "start_time": "2023-04-22T12:53:26.182Z"
   },
   {
    "duration": 10,
    "start_time": "2023-04-22T12:53:32.472Z"
   },
   {
    "duration": 412,
    "start_time": "2023-04-22T12:53:39.156Z"
   },
   {
    "duration": 9,
    "start_time": "2023-04-22T12:53:53.473Z"
   },
   {
    "duration": 9,
    "start_time": "2023-04-22T12:54:02.180Z"
   },
   {
    "duration": 8,
    "start_time": "2023-04-22T12:54:05.347Z"
   },
   {
    "duration": 8,
    "start_time": "2023-04-22T12:54:08.736Z"
   },
   {
    "duration": 35,
    "start_time": "2023-04-22T12:54:21.278Z"
   },
   {
    "duration": 26,
    "start_time": "2023-04-22T12:56:01.201Z"
   },
   {
    "duration": 17,
    "start_time": "2023-04-22T12:56:11.581Z"
   },
   {
    "duration": 3,
    "start_time": "2023-04-22T12:56:56.846Z"
   },
   {
    "duration": 104,
    "start_time": "2023-04-22T12:56:57.049Z"
   },
   {
    "duration": 42,
    "start_time": "2023-04-22T12:56:57.282Z"
   },
   {
    "duration": 45,
    "start_time": "2023-04-22T12:56:57.501Z"
   },
   {
    "duration": 13,
    "start_time": "2023-04-22T12:56:57.761Z"
   },
   {
    "duration": 29,
    "start_time": "2023-04-22T12:56:58.080Z"
   },
   {
    "duration": 15,
    "start_time": "2023-04-22T12:56:58.632Z"
   },
   {
    "duration": 1430,
    "start_time": "2023-04-22T12:57:00.717Z"
   },
   {
    "duration": 1350,
    "start_time": "2023-04-22T12:57:02.503Z"
   },
   {
    "duration": 1413,
    "start_time": "2023-04-22T12:57:09.001Z"
   },
   {
    "duration": 4,
    "start_time": "2023-04-22T12:59:04.282Z"
   },
   {
    "duration": 102,
    "start_time": "2023-04-22T12:59:04.839Z"
   },
   {
    "duration": 50,
    "start_time": "2023-04-22T12:59:08.437Z"
   },
   {
    "duration": 65,
    "start_time": "2023-04-22T12:59:09.003Z"
   },
   {
    "duration": 31,
    "start_time": "2023-04-22T12:59:09.499Z"
   },
   {
    "duration": 27,
    "start_time": "2023-04-22T12:59:09.981Z"
   },
   {
    "duration": 18,
    "start_time": "2023-04-22T12:59:10.582Z"
   },
   {
    "duration": 1644,
    "start_time": "2023-04-22T12:59:12.896Z"
   },
   {
    "duration": 1,
    "start_time": "2023-04-22T12:59:14.546Z"
   },
   {
    "duration": 1351,
    "start_time": "2023-04-22T12:59:23.057Z"
   },
   {
    "duration": 100,
    "start_time": "2023-04-22T12:59:24.410Z"
   },
   {
    "duration": 61,
    "start_time": "2023-04-22T12:59:24.518Z"
   },
   {
    "duration": 45,
    "start_time": "2023-04-22T12:59:24.581Z"
   },
   {
    "duration": 17,
    "start_time": "2023-04-22T12:59:24.629Z"
   },
   {
    "duration": 37,
    "start_time": "2023-04-22T12:59:24.653Z"
   },
   {
    "duration": 42,
    "start_time": "2023-04-22T12:59:24.692Z"
   },
   {
    "duration": 1829,
    "start_time": "2023-04-22T12:59:24.746Z"
   },
   {
    "duration": 0,
    "start_time": "2023-04-22T12:59:26.578Z"
   },
   {
    "duration": 0,
    "start_time": "2023-04-22T12:59:26.579Z"
   },
   {
    "duration": 0,
    "start_time": "2023-04-22T12:59:26.580Z"
   },
   {
    "duration": 0,
    "start_time": "2023-04-22T12:59:26.581Z"
   },
   {
    "duration": 0,
    "start_time": "2023-04-22T12:59:26.582Z"
   },
   {
    "duration": 0,
    "start_time": "2023-04-22T12:59:26.585Z"
   },
   {
    "duration": 0,
    "start_time": "2023-04-22T12:59:26.586Z"
   },
   {
    "duration": 0,
    "start_time": "2023-04-22T12:59:26.588Z"
   },
   {
    "duration": 0,
    "start_time": "2023-04-22T12:59:26.589Z"
   },
   {
    "duration": 0,
    "start_time": "2023-04-22T12:59:26.591Z"
   },
   {
    "duration": 0,
    "start_time": "2023-04-22T12:59:26.593Z"
   },
   {
    "duration": 0,
    "start_time": "2023-04-22T12:59:26.594Z"
   },
   {
    "duration": 0,
    "start_time": "2023-04-22T12:59:26.595Z"
   },
   {
    "duration": 0,
    "start_time": "2023-04-22T12:59:26.597Z"
   },
   {
    "duration": 0,
    "start_time": "2023-04-22T12:59:26.598Z"
   },
   {
    "duration": 0,
    "start_time": "2023-04-22T12:59:26.600Z"
   },
   {
    "duration": 0,
    "start_time": "2023-04-22T12:59:26.602Z"
   },
   {
    "duration": 0,
    "start_time": "2023-04-22T12:59:26.603Z"
   },
   {
    "duration": 0,
    "start_time": "2023-04-22T12:59:26.604Z"
   },
   {
    "duration": 0,
    "start_time": "2023-04-22T12:59:26.605Z"
   },
   {
    "duration": 4,
    "start_time": "2023-04-22T12:59:27.580Z"
   },
   {
    "duration": 117,
    "start_time": "2023-04-22T12:59:28.265Z"
   },
   {
    "duration": 62,
    "start_time": "2023-04-22T12:59:29.139Z"
   },
   {
    "duration": 51,
    "start_time": "2023-04-22T12:59:29.909Z"
   },
   {
    "duration": 22,
    "start_time": "2023-04-22T12:59:30.757Z"
   },
   {
    "duration": 28,
    "start_time": "2023-04-22T12:59:31.347Z"
   },
   {
    "duration": 20,
    "start_time": "2023-04-22T12:59:31.937Z"
   },
   {
    "duration": 1691,
    "start_time": "2023-04-22T12:59:34.550Z"
   },
   {
    "duration": 13,
    "start_time": "2023-04-22T13:01:05.336Z"
   },
   {
    "duration": 116,
    "start_time": "2023-04-22T13:01:16.674Z"
   },
   {
    "duration": 49,
    "start_time": "2023-04-22T13:01:30.249Z"
   },
   {
    "duration": 20,
    "start_time": "2023-04-22T13:01:58.139Z"
   },
   {
    "duration": 13,
    "start_time": "2023-04-22T13:02:00.948Z"
   },
   {
    "duration": 33,
    "start_time": "2023-04-22T13:02:02.838Z"
   },
   {
    "duration": 46,
    "start_time": "2023-04-22T13:02:15.862Z"
   },
   {
    "duration": 38,
    "start_time": "2023-04-22T13:02:32.404Z"
   },
   {
    "duration": 35,
    "start_time": "2023-04-22T13:02:52.390Z"
   },
   {
    "duration": 14,
    "start_time": "2023-04-22T13:03:08.149Z"
   },
   {
    "duration": 36,
    "start_time": "2023-04-22T13:06:41.885Z"
   },
   {
    "duration": 14,
    "start_time": "2023-04-22T13:06:52.489Z"
   },
   {
    "duration": 14,
    "start_time": "2023-04-22T13:07:22.753Z"
   },
   {
    "duration": 14,
    "start_time": "2023-04-22T13:07:38.614Z"
   },
   {
    "duration": 4,
    "start_time": "2023-04-22T13:07:39.599Z"
   },
   {
    "duration": 6,
    "start_time": "2023-04-22T13:07:52.578Z"
   },
   {
    "duration": 16,
    "start_time": "2023-04-22T13:07:54.814Z"
   },
   {
    "duration": 9,
    "start_time": "2023-04-22T13:08:00.962Z"
   },
   {
    "duration": 7,
    "start_time": "2023-04-22T13:08:33.995Z"
   },
   {
    "duration": 177,
    "start_time": "2023-04-22T13:08:36.764Z"
   },
   {
    "duration": 3,
    "start_time": "2023-04-22T13:08:41.397Z"
   },
   {
    "duration": 9,
    "start_time": "2023-04-22T13:08:42.164Z"
   },
   {
    "duration": 141,
    "start_time": "2023-04-22T13:08:49.448Z"
   },
   {
    "duration": 17,
    "start_time": "2023-04-22T13:08:59.277Z"
   },
   {
    "duration": 356,
    "start_time": "2023-04-22T13:09:03.934Z"
   },
   {
    "duration": 281,
    "start_time": "2023-04-22T13:09:58.845Z"
   },
   {
    "duration": 6,
    "start_time": "2023-04-22T13:10:15.999Z"
   },
   {
    "duration": 10,
    "start_time": "2023-04-22T13:10:17.084Z"
   },
   {
    "duration": 292,
    "start_time": "2023-04-22T13:10:26.335Z"
   },
   {
    "duration": 11,
    "start_time": "2023-04-22T13:10:28.898Z"
   },
   {
    "duration": 9,
    "start_time": "2023-04-22T13:10:31.381Z"
   },
   {
    "duration": 10,
    "start_time": "2023-04-22T13:10:33.636Z"
   },
   {
    "duration": 9,
    "start_time": "2023-04-22T13:10:40.078Z"
   },
   {
    "duration": 10,
    "start_time": "2023-04-22T13:10:42.669Z"
   },
   {
    "duration": 9,
    "start_time": "2023-04-22T13:10:46.662Z"
   },
   {
    "duration": 9,
    "start_time": "2023-04-22T13:10:49.142Z"
   },
   {
    "duration": 8,
    "start_time": "2023-04-22T13:10:53.865Z"
   },
   {
    "duration": 10,
    "start_time": "2023-04-22T13:11:03.144Z"
   },
   {
    "duration": 13,
    "start_time": "2023-04-22T13:12:09.380Z"
   },
   {
    "duration": 18,
    "start_time": "2023-04-22T13:12:19.480Z"
   },
   {
    "duration": 8,
    "start_time": "2023-04-22T13:12:21.479Z"
   },
   {
    "duration": 9,
    "start_time": "2023-04-22T13:12:23.281Z"
   },
   {
    "duration": 9,
    "start_time": "2023-04-22T13:12:25.177Z"
   },
   {
    "duration": 9,
    "start_time": "2023-04-22T13:12:26.793Z"
   },
   {
    "duration": 9,
    "start_time": "2023-04-22T13:12:28.452Z"
   },
   {
    "duration": 10,
    "start_time": "2023-04-22T13:12:30.380Z"
   },
   {
    "duration": 21,
    "start_time": "2023-04-22T13:12:32.149Z"
   },
   {
    "duration": 9,
    "start_time": "2023-04-22T13:12:34.148Z"
   },
   {
    "duration": 10,
    "start_time": "2023-04-22T13:12:35.660Z"
   },
   {
    "duration": 8,
    "start_time": "2023-04-22T13:12:37.479Z"
   },
   {
    "duration": 12,
    "start_time": "2023-04-22T13:12:39.366Z"
   },
   {
    "duration": 18,
    "start_time": "2023-04-22T13:12:41.128Z"
   },
   {
    "duration": 10,
    "start_time": "2023-04-22T13:12:43.195Z"
   },
   {
    "duration": 8,
    "start_time": "2023-04-22T13:12:44.961Z"
   },
   {
    "duration": 10,
    "start_time": "2023-04-22T13:12:46.581Z"
   },
   {
    "duration": 21,
    "start_time": "2023-04-22T13:12:48.136Z"
   },
   {
    "duration": 29,
    "start_time": "2023-04-22T13:12:49.538Z"
   },
   {
    "duration": 9,
    "start_time": "2023-04-22T13:12:51.264Z"
   },
   {
    "duration": 260,
    "start_time": "2023-04-22T13:13:04.046Z"
   },
   {
    "duration": 11,
    "start_time": "2023-04-22T13:13:16.596Z"
   },
   {
    "duration": 15,
    "start_time": "2023-04-22T13:13:25.152Z"
   },
   {
    "duration": 16,
    "start_time": "2023-04-22T13:13:28.339Z"
   },
   {
    "duration": 9,
    "start_time": "2023-04-22T13:13:30.294Z"
   },
   {
    "duration": 13,
    "start_time": "2023-04-22T13:13:32.137Z"
   },
   {
    "duration": 13,
    "start_time": "2023-04-22T13:13:33.900Z"
   },
   {
    "duration": 16,
    "start_time": "2023-04-22T13:13:35.844Z"
   },
   {
    "duration": 22,
    "start_time": "2023-04-22T13:13:38.946Z"
   },
   {
    "duration": 11,
    "start_time": "2023-04-22T13:13:41.052Z"
   },
   {
    "duration": 16,
    "start_time": "2023-04-22T13:13:43.311Z"
   },
   {
    "duration": 21,
    "start_time": "2023-04-22T13:13:45.735Z"
   },
   {
    "duration": 19,
    "start_time": "2023-04-22T13:13:48.440Z"
   },
   {
    "duration": 11,
    "start_time": "2023-04-22T13:13:50.865Z"
   },
   {
    "duration": 10,
    "start_time": "2023-04-22T13:13:53.462Z"
   },
   {
    "duration": 9,
    "start_time": "2023-04-22T13:13:55.383Z"
   },
   {
    "duration": 10,
    "start_time": "2023-04-22T13:13:57.451Z"
   },
   {
    "duration": 9,
    "start_time": "2023-04-22T13:13:59.398Z"
   },
   {
    "duration": 12,
    "start_time": "2023-04-22T13:14:01.550Z"
   },
   {
    "duration": 8,
    "start_time": "2023-04-22T13:14:03.502Z"
   },
   {
    "duration": 9,
    "start_time": "2023-04-22T13:14:05.495Z"
   },
   {
    "duration": 9,
    "start_time": "2023-04-22T13:14:07.896Z"
   },
   {
    "duration": 10,
    "start_time": "2023-04-22T13:14:09.761Z"
   },
   {
    "duration": 12,
    "start_time": "2023-04-22T13:14:11.835Z"
   },
   {
    "duration": 13,
    "start_time": "2023-04-22T13:14:14.038Z"
   },
   {
    "duration": 9,
    "start_time": "2023-04-22T13:14:16.179Z"
   },
   {
    "duration": 11,
    "start_time": "2023-04-22T13:14:18.068Z"
   },
   {
    "duration": 12,
    "start_time": "2023-04-22T13:14:21.492Z"
   },
   {
    "duration": 21,
    "start_time": "2023-04-22T13:14:30.895Z"
   },
   {
    "duration": 8,
    "start_time": "2023-04-22T13:14:36.455Z"
   },
   {
    "duration": 12,
    "start_time": "2023-04-22T13:14:38.773Z"
   },
   {
    "duration": 10,
    "start_time": "2023-04-22T13:14:42.378Z"
   },
   {
    "duration": 29,
    "start_time": "2023-04-22T13:14:44.911Z"
   },
   {
    "duration": 10,
    "start_time": "2023-04-22T13:14:51.254Z"
   },
   {
    "duration": 12,
    "start_time": "2023-04-22T13:14:53.335Z"
   },
   {
    "duration": 9,
    "start_time": "2023-04-22T13:14:55.297Z"
   },
   {
    "duration": 362,
    "start_time": "2023-04-22T13:15:09.097Z"
   },
   {
    "duration": 159,
    "start_time": "2023-04-22T13:16:46.482Z"
   },
   {
    "duration": 280,
    "start_time": "2023-04-22T13:17:10.411Z"
   },
   {
    "duration": 392,
    "start_time": "2023-04-22T13:17:40.577Z"
   },
   {
    "duration": 7,
    "start_time": "2023-04-22T13:18:47.662Z"
   },
   {
    "duration": 7,
    "start_time": "2023-04-22T13:18:58.762Z"
   },
   {
    "duration": 146,
    "start_time": "2023-04-22T13:19:06.659Z"
   },
   {
    "duration": 124,
    "start_time": "2023-04-22T13:19:36.548Z"
   },
   {
    "duration": 8,
    "start_time": "2023-04-22T13:20:05.179Z"
   },
   {
    "duration": 7,
    "start_time": "2023-04-22T13:20:24.236Z"
   },
   {
    "duration": 10,
    "start_time": "2023-04-22T13:22:58.194Z"
   },
   {
    "duration": 6,
    "start_time": "2023-04-22T13:24:08.064Z"
   },
   {
    "duration": 6,
    "start_time": "2023-04-22T13:24:18.710Z"
   },
   {
    "duration": 25,
    "start_time": "2023-04-22T13:24:57.040Z"
   },
   {
    "duration": 16,
    "start_time": "2023-04-22T13:25:49.146Z"
   },
   {
    "duration": 83,
    "start_time": "2023-04-22T13:26:11.037Z"
   },
   {
    "duration": 10,
    "start_time": "2023-04-22T13:27:07.961Z"
   },
   {
    "duration": 81,
    "start_time": "2023-04-22T13:27:19.537Z"
   },
   {
    "duration": 8,
    "start_time": "2023-04-22T13:27:39.728Z"
   },
   {
    "duration": 8,
    "start_time": "2023-04-22T13:27:49.134Z"
   },
   {
    "duration": 32,
    "start_time": "2023-04-22T13:28:00.316Z"
   },
   {
    "duration": 35,
    "start_time": "2023-04-22T13:28:59.180Z"
   },
   {
    "duration": 41,
    "start_time": "2023-04-22T13:29:06.608Z"
   },
   {
    "duration": 23,
    "start_time": "2023-04-22T13:29:41.445Z"
   },
   {
    "duration": 6,
    "start_time": "2023-04-22T13:29:49.658Z"
   },
   {
    "duration": 11,
    "start_time": "2023-04-22T13:29:53.636Z"
   },
   {
    "duration": 7,
    "start_time": "2023-04-22T13:29:56.097Z"
   },
   {
    "duration": 5,
    "start_time": "2023-04-22T13:29:57.535Z"
   },
   {
    "duration": 26,
    "start_time": "2023-04-22T13:30:10.646Z"
   },
   {
    "duration": 12,
    "start_time": "2023-04-22T13:30:26.735Z"
   },
   {
    "duration": 16,
    "start_time": "2023-04-22T13:30:37.645Z"
   },
   {
    "duration": 12,
    "start_time": "2023-04-22T13:31:47.243Z"
   },
   {
    "duration": 7,
    "start_time": "2023-04-22T13:31:47.663Z"
   },
   {
    "duration": 6,
    "start_time": "2023-04-22T13:31:48.207Z"
   },
   {
    "duration": 46,
    "start_time": "2023-04-22T13:31:48.707Z"
   },
   {
    "duration": 103,
    "start_time": "2023-04-22T13:32:10.071Z"
   },
   {
    "duration": 15,
    "start_time": "2023-04-22T13:32:25.341Z"
   },
   {
    "duration": 96,
    "start_time": "2023-04-22T13:33:12.337Z"
   },
   {
    "duration": 294,
    "start_time": "2023-04-22T13:33:43.948Z"
   },
   {
    "duration": 278,
    "start_time": "2023-04-22T13:34:22.399Z"
   },
   {
    "duration": 9,
    "start_time": "2023-04-22T13:43:59.258Z"
   },
   {
    "duration": 5,
    "start_time": "2023-04-22T13:44:01.204Z"
   },
   {
    "duration": 11,
    "start_time": "2023-04-22T13:44:15.851Z"
   },
   {
    "duration": 27,
    "start_time": "2023-04-22T13:44:44.053Z"
   },
   {
    "duration": 23,
    "start_time": "2023-04-22T13:44:47.048Z"
   },
   {
    "duration": 29,
    "start_time": "2023-04-22T13:44:49.257Z"
   },
   {
    "duration": 13,
    "start_time": "2023-04-22T13:44:53.352Z"
   },
   {
    "duration": 24,
    "start_time": "2023-04-22T13:45:09.426Z"
   },
   {
    "duration": 5,
    "start_time": "2023-04-22T13:45:20.887Z"
   },
   {
    "duration": 26,
    "start_time": "2023-04-22T13:45:23.551Z"
   },
   {
    "duration": 13,
    "start_time": "2023-04-22T13:45:46.759Z"
   },
   {
    "duration": 1208,
    "start_time": "2023-04-22T13:47:13.463Z"
   },
   {
    "duration": 95,
    "start_time": "2023-04-22T13:47:14.673Z"
   },
   {
    "duration": 46,
    "start_time": "2023-04-22T13:47:14.769Z"
   },
   {
    "duration": 16,
    "start_time": "2023-04-22T13:47:14.818Z"
   },
   {
    "duration": 33,
    "start_time": "2023-04-22T13:47:14.838Z"
   },
   {
    "duration": 12,
    "start_time": "2023-04-22T13:47:14.873Z"
   },
   {
    "duration": 54,
    "start_time": "2023-04-22T13:47:14.886Z"
   },
   {
    "duration": 15,
    "start_time": "2023-04-22T13:47:14.943Z"
   },
   {
    "duration": 13,
    "start_time": "2023-04-22T13:47:14.959Z"
   },
   {
    "duration": 13,
    "start_time": "2023-04-22T13:47:14.973Z"
   },
   {
    "duration": 17,
    "start_time": "2023-04-22T13:47:15.013Z"
   },
   {
    "duration": 16,
    "start_time": "2023-04-22T13:47:15.032Z"
   },
   {
    "duration": 4,
    "start_time": "2023-04-22T13:47:15.050Z"
   },
   {
    "duration": 12,
    "start_time": "2023-04-22T13:47:15.058Z"
   },
   {
    "duration": 24,
    "start_time": "2023-04-22T13:47:15.071Z"
   },
   {
    "duration": 13,
    "start_time": "2023-04-22T13:47:15.096Z"
   },
   {
    "duration": 20,
    "start_time": "2023-04-22T13:47:15.115Z"
   },
   {
    "duration": 167,
    "start_time": "2023-04-22T13:47:15.140Z"
   },
   {
    "duration": 7,
    "start_time": "2023-04-22T13:47:15.308Z"
   },
   {
    "duration": 21,
    "start_time": "2023-04-22T13:47:15.320Z"
   },
   {
    "duration": 134,
    "start_time": "2023-04-22T13:47:15.342Z"
   },
   {
    "duration": 12,
    "start_time": "2023-04-22T13:47:15.477Z"
   },
   {
    "duration": 335,
    "start_time": "2023-04-22T13:47:15.491Z"
   },
   {
    "duration": 231,
    "start_time": "2023-04-22T13:47:15.828Z"
   },
   {
    "duration": 6,
    "start_time": "2023-04-22T13:47:16.060Z"
   },
   {
    "duration": 20,
    "start_time": "2023-04-22T13:47:16.068Z"
   },
   {
    "duration": 332,
    "start_time": "2023-04-22T13:47:16.090Z"
   },
   {
    "duration": 222,
    "start_time": "2023-04-22T13:47:16.431Z"
   },
   {
    "duration": 10,
    "start_time": "2023-04-22T13:47:16.655Z"
   },
   {
    "duration": 332,
    "start_time": "2023-04-22T13:47:16.667Z"
   },
   {
    "duration": 161,
    "start_time": "2023-04-22T13:47:17.001Z"
   },
   {
    "duration": 261,
    "start_time": "2023-04-22T13:47:17.163Z"
   },
   {
    "duration": 375,
    "start_time": "2023-04-22T13:47:17.430Z"
   },
   {
    "duration": 17,
    "start_time": "2023-04-22T13:47:17.806Z"
   },
   {
    "duration": 7,
    "start_time": "2023-04-22T13:47:17.828Z"
   },
   {
    "duration": 146,
    "start_time": "2023-04-22T13:47:17.840Z"
   },
   {
    "duration": 151,
    "start_time": "2023-04-22T13:47:17.988Z"
   },
   {
    "duration": 6,
    "start_time": "2023-04-22T13:47:18.141Z"
   },
   {
    "duration": 9,
    "start_time": "2023-04-22T13:47:18.149Z"
   },
   {
    "duration": 21,
    "start_time": "2023-04-22T13:47:18.160Z"
   },
   {
    "duration": 8,
    "start_time": "2023-04-22T13:47:18.185Z"
   },
   {
    "duration": 7,
    "start_time": "2023-04-22T13:47:18.194Z"
   },
   {
    "duration": 52,
    "start_time": "2023-04-22T13:47:18.202Z"
   },
   {
    "duration": 11,
    "start_time": "2023-04-22T13:47:18.256Z"
   },
   {
    "duration": 8,
    "start_time": "2023-04-22T13:47:18.269Z"
   },
   {
    "duration": 6,
    "start_time": "2023-04-22T13:47:18.279Z"
   },
   {
    "duration": 6,
    "start_time": "2023-04-22T13:47:18.287Z"
   },
   {
    "duration": 50,
    "start_time": "2023-04-22T13:47:18.295Z"
   },
   {
    "duration": 11,
    "start_time": "2023-04-22T13:47:18.347Z"
   },
   {
    "duration": 312,
    "start_time": "2023-04-22T13:47:18.360Z"
   },
   {
    "duration": 266,
    "start_time": "2023-04-22T13:47:18.674Z"
   },
   {
    "duration": 4,
    "start_time": "2023-04-22T13:47:29.403Z"
   },
   {
    "duration": 89,
    "start_time": "2023-04-22T13:47:29.908Z"
   },
   {
    "duration": 39,
    "start_time": "2023-04-22T13:47:30.639Z"
   },
   {
    "duration": 10,
    "start_time": "2023-04-22T13:47:37.974Z"
   },
   {
    "duration": 37,
    "start_time": "2023-04-22T13:47:38.168Z"
   },
   {
    "duration": 13,
    "start_time": "2023-04-22T13:47:38.352Z"
   },
   {
    "duration": 28,
    "start_time": "2023-04-22T13:47:38.536Z"
   },
   {
    "duration": 16,
    "start_time": "2023-04-22T13:47:38.684Z"
   },
   {
    "duration": 22,
    "start_time": "2023-04-22T13:47:39.305Z"
   },
   {
    "duration": 14,
    "start_time": "2023-04-22T13:47:39.637Z"
   },
   {
    "duration": 20,
    "start_time": "2023-04-22T13:47:40.110Z"
   },
   {
    "duration": 10,
    "start_time": "2023-04-22T13:47:40.410Z"
   },
   {
    "duration": 4,
    "start_time": "2023-04-22T13:47:40.553Z"
   },
   {
    "duration": 6,
    "start_time": "2023-04-22T13:47:40.870Z"
   },
   {
    "duration": 8,
    "start_time": "2023-04-22T13:47:41.052Z"
   },
   {
    "duration": 13,
    "start_time": "2023-04-22T13:47:41.206Z"
   },
   {
    "duration": 7,
    "start_time": "2023-04-22T13:47:41.556Z"
   },
   {
    "duration": 170,
    "start_time": "2023-04-22T13:47:41.703Z"
   },
   {
    "duration": 4,
    "start_time": "2023-04-22T13:47:41.904Z"
   },
   {
    "duration": 16,
    "start_time": "2023-04-22T13:47:42.207Z"
   },
   {
    "duration": 152,
    "start_time": "2023-04-22T13:47:42.573Z"
   },
   {
    "duration": 16,
    "start_time": "2023-04-22T13:47:42.737Z"
   },
   {
    "duration": 232,
    "start_time": "2023-04-22T13:47:42.870Z"
   },
   {
    "duration": 248,
    "start_time": "2023-04-22T13:47:43.205Z"
   },
   {
    "duration": 7,
    "start_time": "2023-04-22T13:47:43.539Z"
   },
   {
    "duration": 13,
    "start_time": "2023-04-22T13:47:43.728Z"
   },
   {
    "duration": 362,
    "start_time": "2023-04-22T13:47:43.889Z"
   },
   {
    "duration": 236,
    "start_time": "2023-04-22T13:47:44.255Z"
   },
   {
    "duration": 9,
    "start_time": "2023-04-22T13:47:44.589Z"
   },
   {
    "duration": 317,
    "start_time": "2023-04-22T13:47:44.775Z"
   },
   {
    "duration": 187,
    "start_time": "2023-04-22T13:47:45.136Z"
   },
   {
    "duration": 262,
    "start_time": "2023-04-22T13:47:45.336Z"
   },
   {
    "duration": 343,
    "start_time": "2023-04-22T13:47:45.637Z"
   },
   {
    "duration": 6,
    "start_time": "2023-04-22T13:47:45.989Z"
   },
   {
    "duration": 6,
    "start_time": "2023-04-22T13:47:46.171Z"
   },
   {
    "duration": 196,
    "start_time": "2023-04-22T13:47:46.354Z"
   },
   {
    "duration": 162,
    "start_time": "2023-04-22T13:47:46.938Z"
   },
   {
    "duration": 6,
    "start_time": "2023-04-22T13:47:47.287Z"
   },
   {
    "duration": 5,
    "start_time": "2023-04-22T13:47:47.470Z"
   },
   {
    "duration": 11,
    "start_time": "2023-04-22T13:47:48.184Z"
   },
   {
    "duration": 8,
    "start_time": "2023-04-22T13:47:48.536Z"
   },
   {
    "duration": 5,
    "start_time": "2023-04-22T13:47:48.734Z"
   },
   {
    "duration": 44,
    "start_time": "2023-04-22T13:47:49.105Z"
   },
   {
    "duration": 12,
    "start_time": "2023-04-22T13:47:49.440Z"
   },
   {
    "duration": 9,
    "start_time": "2023-04-22T13:47:50.192Z"
   },
   {
    "duration": 7,
    "start_time": "2023-04-22T13:47:50.370Z"
   },
   {
    "duration": 6,
    "start_time": "2023-04-22T13:47:50.553Z"
   },
   {
    "duration": 29,
    "start_time": "2023-04-22T13:47:50.728Z"
   },
   {
    "duration": 13,
    "start_time": "2023-04-22T13:47:51.101Z"
   },
   {
    "duration": 288,
    "start_time": "2023-04-22T13:47:51.476Z"
   },
   {
    "duration": 278,
    "start_time": "2023-04-22T13:47:51.766Z"
   },
   {
    "duration": 1376,
    "start_time": "2023-04-22T13:58:05.665Z"
   },
   {
    "duration": 98,
    "start_time": "2023-04-22T13:58:07.043Z"
   },
   {
    "duration": 64,
    "start_time": "2023-04-22T13:58:07.144Z"
   },
   {
    "duration": 22,
    "start_time": "2023-04-22T13:58:07.210Z"
   },
   {
    "duration": 63,
    "start_time": "2023-04-22T13:58:07.235Z"
   },
   {
    "duration": 18,
    "start_time": "2023-04-22T13:58:07.300Z"
   },
   {
    "duration": 49,
    "start_time": "2023-04-22T13:58:07.322Z"
   },
   {
    "duration": 28,
    "start_time": "2023-04-22T13:58:07.373Z"
   },
   {
    "duration": 43,
    "start_time": "2023-04-22T13:58:07.406Z"
   },
   {
    "duration": 20,
    "start_time": "2023-04-22T13:58:07.451Z"
   },
   {
    "duration": 34,
    "start_time": "2023-04-22T13:58:07.473Z"
   },
   {
    "duration": 34,
    "start_time": "2023-04-22T13:58:07.512Z"
   },
   {
    "duration": 16,
    "start_time": "2023-04-22T13:58:07.548Z"
   },
   {
    "duration": 8,
    "start_time": "2023-04-22T13:58:07.568Z"
   },
   {
    "duration": 29,
    "start_time": "2023-04-22T13:58:07.578Z"
   },
   {
    "duration": 28,
    "start_time": "2023-04-22T13:58:07.616Z"
   },
   {
    "duration": 31,
    "start_time": "2023-04-22T13:58:07.647Z"
   },
   {
    "duration": 203,
    "start_time": "2023-04-22T13:58:07.680Z"
   },
   {
    "duration": 3,
    "start_time": "2023-04-22T13:58:07.885Z"
   },
   {
    "duration": 49,
    "start_time": "2023-04-22T13:58:07.891Z"
   },
   {
    "duration": 182,
    "start_time": "2023-04-22T13:58:07.942Z"
   },
   {
    "duration": 17,
    "start_time": "2023-04-22T13:58:08.128Z"
   },
   {
    "duration": 353,
    "start_time": "2023-04-22T13:58:08.147Z"
   },
   {
    "duration": 249,
    "start_time": "2023-04-22T13:58:08.502Z"
   },
   {
    "duration": 7,
    "start_time": "2023-04-22T13:58:08.753Z"
   },
   {
    "duration": 55,
    "start_time": "2023-04-22T13:58:08.761Z"
   },
   {
    "duration": 382,
    "start_time": "2023-04-22T13:58:08.819Z"
   },
   {
    "duration": 296,
    "start_time": "2023-04-22T13:58:09.204Z"
   },
   {
    "duration": 24,
    "start_time": "2023-04-22T13:58:09.502Z"
   },
   {
    "duration": 397,
    "start_time": "2023-04-22T13:58:09.527Z"
   },
   {
    "duration": 147,
    "start_time": "2023-04-22T13:58:09.926Z"
   },
   {
    "duration": 282,
    "start_time": "2023-04-22T13:58:10.075Z"
   },
   {
    "duration": 450,
    "start_time": "2023-04-22T13:58:10.358Z"
   },
   {
    "duration": 10,
    "start_time": "2023-04-22T13:58:10.810Z"
   },
   {
    "duration": 41,
    "start_time": "2023-04-22T13:58:10.828Z"
   },
   {
    "duration": 242,
    "start_time": "2023-04-22T13:58:10.871Z"
   },
   {
    "duration": 182,
    "start_time": "2023-04-22T13:58:11.122Z"
   },
   {
    "duration": 13,
    "start_time": "2023-04-22T13:58:11.314Z"
   },
   {
    "duration": 20,
    "start_time": "2023-04-22T13:58:11.329Z"
   },
   {
    "duration": 44,
    "start_time": "2023-04-22T13:58:11.351Z"
   },
   {
    "duration": 52,
    "start_time": "2023-04-22T13:58:11.402Z"
   },
   {
    "duration": 29,
    "start_time": "2023-04-22T13:58:11.456Z"
   },
   {
    "duration": 62,
    "start_time": "2023-04-22T13:58:11.495Z"
   },
   {
    "duration": 12,
    "start_time": "2023-04-22T13:58:11.559Z"
   },
   {
    "duration": 66,
    "start_time": "2023-04-22T13:58:11.573Z"
   },
   {
    "duration": 15,
    "start_time": "2023-04-22T13:58:11.640Z"
   },
   {
    "duration": 21,
    "start_time": "2023-04-22T13:58:11.657Z"
   },
   {
    "duration": 83,
    "start_time": "2023-04-22T13:58:11.680Z"
   },
   {
    "duration": 14,
    "start_time": "2023-04-22T13:58:11.765Z"
   },
   {
    "duration": 379,
    "start_time": "2023-04-22T13:58:11.781Z"
   },
   {
    "duration": 371,
    "start_time": "2023-04-22T13:58:12.163Z"
   },
   {
    "duration": 1391,
    "start_time": "2023-04-23T04:01:01.544Z"
   },
   {
    "duration": 204,
    "start_time": "2023-04-23T04:01:02.937Z"
   },
   {
    "duration": 43,
    "start_time": "2023-04-23T04:01:03.143Z"
   },
   {
    "duration": 8,
    "start_time": "2023-04-23T04:01:03.188Z"
   },
   {
    "duration": 49,
    "start_time": "2023-04-23T04:01:03.199Z"
   },
   {
    "duration": 14,
    "start_time": "2023-04-23T04:01:03.249Z"
   },
   {
    "duration": 44,
    "start_time": "2023-04-23T04:01:03.264Z"
   },
   {
    "duration": 13,
    "start_time": "2023-04-23T04:01:03.310Z"
   },
   {
    "duration": 28,
    "start_time": "2023-04-23T04:01:03.325Z"
   },
   {
    "duration": 32,
    "start_time": "2023-04-23T04:01:03.355Z"
   },
   {
    "duration": 26,
    "start_time": "2023-04-23T04:01:03.389Z"
   },
   {
    "duration": 9,
    "start_time": "2023-04-23T04:01:03.417Z"
   },
   {
    "duration": 8,
    "start_time": "2023-04-23T04:01:03.428Z"
   },
   {
    "duration": 8,
    "start_time": "2023-04-23T04:01:03.439Z"
   },
   {
    "duration": 9,
    "start_time": "2023-04-23T04:01:03.448Z"
   },
   {
    "duration": 12,
    "start_time": "2023-04-23T04:01:03.459Z"
   },
   {
    "duration": 6,
    "start_time": "2023-04-23T04:01:03.487Z"
   },
   {
    "duration": 159,
    "start_time": "2023-04-23T04:01:03.495Z"
   },
   {
    "duration": 3,
    "start_time": "2023-04-23T04:01:03.656Z"
   },
   {
    "duration": 14,
    "start_time": "2023-04-23T04:01:03.661Z"
   },
   {
    "duration": 132,
    "start_time": "2023-04-23T04:01:03.687Z"
   },
   {
    "duration": 12,
    "start_time": "2023-04-23T04:01:03.821Z"
   },
   {
    "duration": 306,
    "start_time": "2023-04-23T04:01:03.835Z"
   },
   {
    "duration": 229,
    "start_time": "2023-04-23T04:01:04.143Z"
   },
   {
    "duration": 17,
    "start_time": "2023-04-23T04:01:04.374Z"
   },
   {
    "duration": 23,
    "start_time": "2023-04-23T04:01:04.393Z"
   },
   {
    "duration": 320,
    "start_time": "2023-04-23T04:01:04.418Z"
   },
   {
    "duration": 227,
    "start_time": "2023-04-23T04:01:04.740Z"
   },
   {
    "duration": 18,
    "start_time": "2023-04-23T04:01:04.969Z"
   },
   {
    "duration": 318,
    "start_time": "2023-04-23T04:01:04.990Z"
   },
   {
    "duration": 187,
    "start_time": "2023-04-23T04:01:05.310Z"
   },
   {
    "duration": 274,
    "start_time": "2023-04-23T04:01:05.499Z"
   },
   {
    "duration": 375,
    "start_time": "2023-04-23T04:01:05.776Z"
   },
   {
    "duration": 8,
    "start_time": "2023-04-23T04:01:06.153Z"
   },
   {
    "duration": 28,
    "start_time": "2023-04-23T04:01:06.162Z"
   },
   {
    "duration": 152,
    "start_time": "2023-04-23T04:01:06.192Z"
   },
   {
    "duration": 134,
    "start_time": "2023-04-23T04:01:06.347Z"
   },
   {
    "duration": 9,
    "start_time": "2023-04-23T04:01:06.489Z"
   },
   {
    "duration": 21,
    "start_time": "2023-04-23T04:01:06.500Z"
   },
   {
    "duration": 53,
    "start_time": "2023-04-23T04:01:06.524Z"
   },
   {
    "duration": 22,
    "start_time": "2023-04-23T04:01:06.581Z"
   },
   {
    "duration": 15,
    "start_time": "2023-04-23T04:01:06.604Z"
   },
   {
    "duration": 44,
    "start_time": "2023-04-23T04:01:06.621Z"
   },
   {
    "duration": 15,
    "start_time": "2023-04-23T04:01:06.667Z"
   },
   {
    "duration": 19,
    "start_time": "2023-04-23T04:01:06.683Z"
   },
   {
    "duration": 37,
    "start_time": "2023-04-23T04:01:06.704Z"
   },
   {
    "duration": 9,
    "start_time": "2023-04-23T04:01:06.743Z"
   },
   {
    "duration": 35,
    "start_time": "2023-04-23T04:01:06.754Z"
   },
   {
    "duration": 20,
    "start_time": "2023-04-23T04:01:06.791Z"
   },
   {
    "duration": 295,
    "start_time": "2023-04-23T04:01:06.814Z"
   },
   {
    "duration": 234,
    "start_time": "2023-04-23T04:01:07.111Z"
   },
   {
    "duration": 4,
    "start_time": "2023-04-23T04:15:17.596Z"
   },
   {
    "duration": 1293,
    "start_time": "2023-04-23T06:28:06.850Z"
   },
   {
    "duration": 79,
    "start_time": "2023-04-23T06:28:08.145Z"
   },
   {
    "duration": 43,
    "start_time": "2023-04-23T06:28:08.226Z"
   },
   {
    "duration": 10,
    "start_time": "2023-04-23T06:28:08.270Z"
   },
   {
    "duration": 44,
    "start_time": "2023-04-23T06:28:08.285Z"
   },
   {
    "duration": 13,
    "start_time": "2023-04-23T06:28:08.331Z"
   },
   {
    "duration": 60,
    "start_time": "2023-04-23T06:28:08.346Z"
   },
   {
    "duration": 18,
    "start_time": "2023-04-23T06:28:08.408Z"
   },
   {
    "duration": 18,
    "start_time": "2023-04-23T06:28:08.428Z"
   },
   {
    "duration": 46,
    "start_time": "2023-04-23T06:28:08.450Z"
   },
   {
    "duration": 24,
    "start_time": "2023-04-23T06:28:08.498Z"
   },
   {
    "duration": 8,
    "start_time": "2023-04-23T06:28:08.523Z"
   },
   {
    "duration": 7,
    "start_time": "2023-04-23T06:28:08.533Z"
   },
   {
    "duration": 7,
    "start_time": "2023-04-23T06:28:08.545Z"
   },
   {
    "duration": 40,
    "start_time": "2023-04-23T06:28:08.555Z"
   },
   {
    "duration": 13,
    "start_time": "2023-04-23T06:28:08.597Z"
   },
   {
    "duration": 19,
    "start_time": "2023-04-23T06:28:08.612Z"
   },
   {
    "duration": 198,
    "start_time": "2023-04-23T06:28:08.633Z"
   },
   {
    "duration": 4,
    "start_time": "2023-04-23T06:28:08.833Z"
   },
   {
    "duration": 20,
    "start_time": "2023-04-23T06:28:08.839Z"
   },
   {
    "duration": 143,
    "start_time": "2023-04-23T06:28:08.862Z"
   },
   {
    "duration": 14,
    "start_time": "2023-04-23T06:28:09.007Z"
   },
   {
    "duration": 342,
    "start_time": "2023-04-23T06:28:09.024Z"
   },
   {
    "duration": 234,
    "start_time": "2023-04-23T06:28:09.368Z"
   },
   {
    "duration": 7,
    "start_time": "2023-04-23T06:28:09.604Z"
   },
   {
    "duration": 33,
    "start_time": "2023-04-23T06:28:09.613Z"
   },
   {
    "duration": 326,
    "start_time": "2023-04-23T06:28:09.648Z"
   },
   {
    "duration": 286,
    "start_time": "2023-04-23T06:28:09.976Z"
   },
   {
    "duration": 9,
    "start_time": "2023-04-23T06:28:10.264Z"
   },
   {
    "duration": 390,
    "start_time": "2023-04-23T06:28:10.287Z"
   },
   {
    "duration": 189,
    "start_time": "2023-04-23T06:28:10.687Z"
   },
   {
    "duration": 308,
    "start_time": "2023-04-23T06:28:10.879Z"
   },
   {
    "duration": 402,
    "start_time": "2023-04-23T06:28:11.189Z"
   },
   {
    "duration": 6,
    "start_time": "2023-04-23T06:28:11.593Z"
   },
   {
    "duration": 17,
    "start_time": "2023-04-23T06:28:11.601Z"
   },
   {
    "duration": 149,
    "start_time": "2023-04-23T06:28:11.621Z"
   },
   {
    "duration": 141,
    "start_time": "2023-04-23T06:28:11.771Z"
   },
   {
    "duration": 7,
    "start_time": "2023-04-23T06:28:11.914Z"
   },
   {
    "duration": 33,
    "start_time": "2023-04-23T06:28:11.923Z"
   },
   {
    "duration": 15,
    "start_time": "2023-04-23T06:28:11.958Z"
   },
   {
    "duration": 9,
    "start_time": "2023-04-23T06:28:11.978Z"
   },
   {
    "duration": 24,
    "start_time": "2023-04-23T06:28:11.988Z"
   },
   {
    "duration": 47,
    "start_time": "2023-04-23T06:28:12.014Z"
   },
   {
    "duration": 14,
    "start_time": "2023-04-23T06:28:12.064Z"
   },
   {
    "duration": 27,
    "start_time": "2023-04-23T06:28:12.080Z"
   },
   {
    "duration": 13,
    "start_time": "2023-04-23T06:28:12.109Z"
   },
   {
    "duration": 18,
    "start_time": "2023-04-23T06:28:12.124Z"
   },
   {
    "duration": 56,
    "start_time": "2023-04-23T06:28:12.144Z"
   },
   {
    "duration": 15,
    "start_time": "2023-04-23T06:28:12.202Z"
   },
   {
    "duration": 336,
    "start_time": "2023-04-23T06:28:12.219Z"
   },
   {
    "duration": 253,
    "start_time": "2023-04-23T06:28:12.557Z"
   },
   {
    "duration": 1291,
    "start_time": "2023-04-23T06:28:32.772Z"
   },
   {
    "duration": 81,
    "start_time": "2023-04-23T06:28:34.066Z"
   },
   {
    "duration": 44,
    "start_time": "2023-04-23T06:28:34.150Z"
   },
   {
    "duration": 11,
    "start_time": "2023-04-23T06:28:34.196Z"
   },
   {
    "duration": 59,
    "start_time": "2023-04-23T06:28:34.210Z"
   },
   {
    "duration": 29,
    "start_time": "2023-04-23T06:28:34.271Z"
   },
   {
    "duration": 32,
    "start_time": "2023-04-23T06:28:34.302Z"
   },
   {
    "duration": 14,
    "start_time": "2023-04-23T06:28:34.336Z"
   },
   {
    "duration": 14,
    "start_time": "2023-04-23T06:28:34.387Z"
   },
   {
    "duration": 15,
    "start_time": "2023-04-23T06:28:34.403Z"
   },
   {
    "duration": 28,
    "start_time": "2023-04-23T06:28:34.420Z"
   },
   {
    "duration": 11,
    "start_time": "2023-04-23T06:28:34.450Z"
   },
   {
    "duration": 29,
    "start_time": "2023-04-23T06:28:34.464Z"
   },
   {
    "duration": 16,
    "start_time": "2023-04-23T06:28:34.498Z"
   },
   {
    "duration": 12,
    "start_time": "2023-04-23T06:28:34.517Z"
   },
   {
    "duration": 13,
    "start_time": "2023-04-23T06:28:34.531Z"
   },
   {
    "duration": 11,
    "start_time": "2023-04-23T06:28:34.546Z"
   },
   {
    "duration": 185,
    "start_time": "2023-04-23T06:28:34.559Z"
   },
   {
    "duration": 3,
    "start_time": "2023-04-23T06:28:34.746Z"
   },
   {
    "duration": 22,
    "start_time": "2023-04-23T06:28:34.751Z"
   },
   {
    "duration": 186,
    "start_time": "2023-04-23T06:28:34.774Z"
   },
   {
    "duration": 13,
    "start_time": "2023-04-23T06:28:34.962Z"
   },
   {
    "duration": 327,
    "start_time": "2023-04-23T06:28:34.987Z"
   },
   {
    "duration": 233,
    "start_time": "2023-04-23T06:28:35.317Z"
   },
   {
    "duration": 7,
    "start_time": "2023-04-23T06:28:35.552Z"
   },
   {
    "duration": 26,
    "start_time": "2023-04-23T06:28:35.560Z"
   },
   {
    "duration": 319,
    "start_time": "2023-04-23T06:28:35.589Z"
   },
   {
    "duration": 243,
    "start_time": "2023-04-23T06:28:35.911Z"
   },
   {
    "duration": 9,
    "start_time": "2023-04-23T06:28:36.156Z"
   },
   {
    "duration": 348,
    "start_time": "2023-04-23T06:28:36.167Z"
   },
   {
    "duration": 145,
    "start_time": "2023-04-23T06:28:36.518Z"
   },
   {
    "duration": 271,
    "start_time": "2023-04-23T06:28:36.664Z"
   },
   {
    "duration": 354,
    "start_time": "2023-04-23T06:28:36.937Z"
   },
   {
    "duration": 8,
    "start_time": "2023-04-23T06:28:37.293Z"
   },
   {
    "duration": 12,
    "start_time": "2023-04-23T06:28:37.303Z"
   },
   {
    "duration": 163,
    "start_time": "2023-04-23T06:28:37.318Z"
   },
   {
    "duration": 137,
    "start_time": "2023-04-23T06:28:37.487Z"
   },
   {
    "duration": 6,
    "start_time": "2023-04-23T06:28:37.626Z"
   },
   {
    "duration": 13,
    "start_time": "2023-04-23T06:28:37.634Z"
   },
   {
    "duration": 17,
    "start_time": "2023-04-23T06:28:37.649Z"
   },
   {
    "duration": 19,
    "start_time": "2023-04-23T06:28:37.670Z"
   },
   {
    "duration": 13,
    "start_time": "2023-04-23T06:28:37.691Z"
   },
   {
    "duration": 38,
    "start_time": "2023-04-23T06:28:37.706Z"
   },
   {
    "duration": 14,
    "start_time": "2023-04-23T06:28:37.746Z"
   },
   {
    "duration": 15,
    "start_time": "2023-04-23T06:28:37.762Z"
   },
   {
    "duration": 8,
    "start_time": "2023-04-23T06:28:37.787Z"
   },
   {
    "duration": 10,
    "start_time": "2023-04-23T06:28:37.797Z"
   },
   {
    "duration": 58,
    "start_time": "2023-04-23T06:28:37.808Z"
   },
   {
    "duration": 20,
    "start_time": "2023-04-23T06:28:37.869Z"
   },
   {
    "duration": 310,
    "start_time": "2023-04-23T06:28:37.890Z"
   },
   {
    "duration": 265,
    "start_time": "2023-04-23T06:28:38.202Z"
   },
   {
    "duration": 1519,
    "start_time": "2023-04-29T08:19:20.863Z"
   },
   {
    "duration": 237,
    "start_time": "2023-04-29T08:19:22.385Z"
   },
   {
    "duration": 50,
    "start_time": "2023-04-29T08:19:22.624Z"
   },
   {
    "duration": 10,
    "start_time": "2023-04-29T08:19:22.676Z"
   },
   {
    "duration": 67,
    "start_time": "2023-04-29T08:19:22.688Z"
   },
   {
    "duration": 20,
    "start_time": "2023-04-29T08:19:22.757Z"
   },
   {
    "duration": 64,
    "start_time": "2023-04-29T08:19:22.780Z"
   },
   {
    "duration": 16,
    "start_time": "2023-04-29T08:19:22.847Z"
   },
   {
    "duration": 29,
    "start_time": "2023-04-29T08:19:22.865Z"
   },
   {
    "duration": 17,
    "start_time": "2023-04-29T08:19:22.897Z"
   },
   {
    "duration": 32,
    "start_time": "2023-04-29T08:19:22.916Z"
   },
   {
    "duration": 9,
    "start_time": "2023-04-29T08:19:22.949Z"
   },
   {
    "duration": 6,
    "start_time": "2023-04-29T08:19:22.960Z"
   },
   {
    "duration": 24,
    "start_time": "2023-04-29T08:19:22.968Z"
   },
   {
    "duration": 13,
    "start_time": "2023-04-29T08:19:22.994Z"
   },
   {
    "duration": 24,
    "start_time": "2023-04-29T08:19:23.010Z"
   },
   {
    "duration": 7,
    "start_time": "2023-04-29T08:19:23.035Z"
   },
   {
    "duration": 202,
    "start_time": "2023-04-29T08:19:23.044Z"
   },
   {
    "duration": 4,
    "start_time": "2023-04-29T08:19:23.248Z"
   },
   {
    "duration": 15,
    "start_time": "2023-04-29T08:19:23.254Z"
   },
   {
    "duration": 146,
    "start_time": "2023-04-29T08:19:23.271Z"
   },
   {
    "duration": 18,
    "start_time": "2023-04-29T08:19:23.419Z"
   },
   {
    "duration": 345,
    "start_time": "2023-04-29T08:19:23.439Z"
   },
   {
    "duration": 277,
    "start_time": "2023-04-29T08:19:23.786Z"
   },
   {
    "duration": 7,
    "start_time": "2023-04-29T08:19:24.066Z"
   },
   {
    "duration": 16,
    "start_time": "2023-04-29T08:19:24.074Z"
   },
   {
    "duration": 397,
    "start_time": "2023-04-29T08:19:24.093Z"
   },
   {
    "duration": 292,
    "start_time": "2023-04-29T08:19:24.498Z"
   },
   {
    "duration": 9,
    "start_time": "2023-04-29T08:19:24.792Z"
   },
   {
    "duration": 333,
    "start_time": "2023-04-29T08:19:24.803Z"
   },
   {
    "duration": 151,
    "start_time": "2023-04-29T08:19:25.138Z"
   },
   {
    "duration": 256,
    "start_time": "2023-04-29T08:19:25.292Z"
   },
   {
    "duration": 372,
    "start_time": "2023-04-29T08:19:25.550Z"
   },
   {
    "duration": 7,
    "start_time": "2023-04-29T08:19:25.924Z"
   },
   {
    "duration": 13,
    "start_time": "2023-04-29T08:19:25.933Z"
   },
   {
    "duration": 150,
    "start_time": "2023-04-29T08:19:25.948Z"
   },
   {
    "duration": 142,
    "start_time": "2023-04-29T08:19:26.100Z"
   },
   {
    "duration": 8,
    "start_time": "2023-04-29T08:19:26.244Z"
   },
   {
    "duration": 12,
    "start_time": "2023-04-29T08:19:26.254Z"
   },
   {
    "duration": 9,
    "start_time": "2023-04-29T08:19:26.268Z"
   },
   {
    "duration": 13,
    "start_time": "2023-04-29T08:19:26.279Z"
   },
   {
    "duration": 244,
    "start_time": "2023-04-29T08:19:26.293Z"
   },
   {
    "duration": 36,
    "start_time": "2023-04-29T08:19:26.538Z"
   },
   {
    "duration": 219,
    "start_time": "2023-04-29T08:19:26.576Z"
   },
   {
    "duration": 5,
    "start_time": "2023-04-29T08:19:26.797Z"
   },
   {
    "duration": 16,
    "start_time": "2023-04-29T08:19:26.804Z"
   },
   {
    "duration": 6,
    "start_time": "2023-04-29T08:19:26.833Z"
   },
   {
    "duration": 11,
    "start_time": "2023-04-29T08:19:26.840Z"
   },
   {
    "duration": 27,
    "start_time": "2023-04-29T08:19:26.853Z"
   },
   {
    "duration": 12,
    "start_time": "2023-04-29T08:19:26.881Z"
   },
   {
    "duration": 305,
    "start_time": "2023-04-29T08:19:26.894Z"
   },
   {
    "duration": 234,
    "start_time": "2023-04-29T08:19:27.201Z"
   },
   {
    "duration": 1167,
    "start_time": "2023-04-29T08:45:44.073Z"
   },
   {
    "duration": 135,
    "start_time": "2023-04-29T08:45:45.242Z"
   },
   {
    "duration": 39,
    "start_time": "2023-04-29T08:45:45.378Z"
   },
   {
    "duration": 9,
    "start_time": "2023-04-29T08:45:45.419Z"
   },
   {
    "duration": 36,
    "start_time": "2023-04-29T08:45:45.429Z"
   },
   {
    "duration": 12,
    "start_time": "2023-04-29T08:45:45.467Z"
   },
   {
    "duration": 52,
    "start_time": "2023-04-29T08:45:45.481Z"
   },
   {
    "duration": 13,
    "start_time": "2023-04-29T08:45:45.536Z"
   },
   {
    "duration": 16,
    "start_time": "2023-04-29T08:45:45.551Z"
   },
   {
    "duration": 12,
    "start_time": "2023-04-29T08:45:45.569Z"
   },
   {
    "duration": 15,
    "start_time": "2023-04-29T08:45:45.582Z"
   },
   {
    "duration": 35,
    "start_time": "2023-04-29T08:45:45.598Z"
   },
   {
    "duration": 5,
    "start_time": "2023-04-29T08:45:45.635Z"
   },
   {
    "duration": 9,
    "start_time": "2023-04-29T08:45:45.642Z"
   },
   {
    "duration": 12,
    "start_time": "2023-04-29T08:45:45.653Z"
   },
   {
    "duration": 15,
    "start_time": "2023-04-29T08:45:45.667Z"
   },
   {
    "duration": 7,
    "start_time": "2023-04-29T08:45:45.684Z"
   },
   {
    "duration": 173,
    "start_time": "2023-04-29T08:45:45.692Z"
   },
   {
    "duration": 3,
    "start_time": "2023-04-29T08:45:45.866Z"
   },
   {
    "duration": 15,
    "start_time": "2023-04-29T08:45:45.870Z"
   },
   {
    "duration": 131,
    "start_time": "2023-04-29T08:45:45.886Z"
   },
   {
    "duration": 30,
    "start_time": "2023-04-29T08:45:46.019Z"
   },
   {
    "duration": 298,
    "start_time": "2023-04-29T08:45:46.051Z"
   },
   {
    "duration": 214,
    "start_time": "2023-04-29T08:45:46.351Z"
   },
   {
    "duration": 6,
    "start_time": "2023-04-29T08:45:46.567Z"
   },
   {
    "duration": 11,
    "start_time": "2023-04-29T08:45:46.575Z"
   },
   {
    "duration": 318,
    "start_time": "2023-04-29T08:45:46.587Z"
   },
   {
    "duration": 217,
    "start_time": "2023-04-29T08:45:46.909Z"
   },
   {
    "duration": 10,
    "start_time": "2023-04-29T08:45:47.127Z"
   },
   {
    "duration": 338,
    "start_time": "2023-04-29T08:45:47.139Z"
   },
   {
    "duration": 143,
    "start_time": "2023-04-29T08:45:47.478Z"
   },
   {
    "duration": 247,
    "start_time": "2023-04-29T08:45:47.622Z"
   },
   {
    "duration": 338,
    "start_time": "2023-04-29T08:45:47.871Z"
   },
   {
    "duration": 6,
    "start_time": "2023-04-29T08:45:48.211Z"
   },
   {
    "duration": 7,
    "start_time": "2023-04-29T08:45:48.219Z"
   },
   {
    "duration": 140,
    "start_time": "2023-04-29T08:45:48.228Z"
   },
   {
    "duration": 133,
    "start_time": "2023-04-29T08:45:48.370Z"
   },
   {
    "duration": 6,
    "start_time": "2023-04-29T08:45:48.505Z"
   },
   {
    "duration": 7,
    "start_time": "2023-04-29T08:45:48.512Z"
   },
   {
    "duration": 16,
    "start_time": "2023-04-29T08:45:48.521Z"
   },
   {
    "duration": 8,
    "start_time": "2023-04-29T08:45:48.539Z"
   },
   {
    "duration": 213,
    "start_time": "2023-04-29T08:45:48.549Z"
   },
   {
    "duration": 31,
    "start_time": "2023-04-29T08:45:48.763Z"
   },
   {
    "duration": 162,
    "start_time": "2023-04-29T08:45:48.796Z"
   },
   {
    "duration": 7,
    "start_time": "2023-04-29T08:45:48.959Z"
   },
   {
    "duration": 9,
    "start_time": "2023-04-29T08:45:48.967Z"
   },
   {
    "duration": 18,
    "start_time": "2023-04-29T08:45:48.978Z"
   },
   {
    "duration": 11,
    "start_time": "2023-04-29T08:45:48.998Z"
   },
   {
    "duration": 34,
    "start_time": "2023-04-29T08:45:49.010Z"
   },
   {
    "duration": 10,
    "start_time": "2023-04-29T08:45:49.046Z"
   },
   {
    "duration": 274,
    "start_time": "2023-04-29T08:45:49.057Z"
   },
   {
    "duration": 222,
    "start_time": "2023-04-29T08:45:49.333Z"
   },
   {
    "duration": 1498,
    "start_time": "2023-04-29T08:46:12.294Z"
   },
   {
    "duration": 678,
    "start_time": "2023-04-29T08:46:13.794Z"
   },
   {
    "duration": 65,
    "start_time": "2023-04-29T08:46:14.474Z"
   },
   {
    "duration": 13,
    "start_time": "2023-04-29T08:46:14.542Z"
   },
   {
    "duration": 45,
    "start_time": "2023-04-29T08:46:14.557Z"
   },
   {
    "duration": 19,
    "start_time": "2023-04-29T08:46:14.635Z"
   },
   {
    "duration": 34,
    "start_time": "2023-04-29T08:46:14.656Z"
   },
   {
    "duration": 43,
    "start_time": "2023-04-29T08:46:14.692Z"
   },
   {
    "duration": 18,
    "start_time": "2023-04-29T08:46:14.737Z"
   },
   {
    "duration": 14,
    "start_time": "2023-04-29T08:46:14.757Z"
   },
   {
    "duration": 15,
    "start_time": "2023-04-29T08:46:14.773Z"
   },
   {
    "duration": 5,
    "start_time": "2023-04-29T08:46:14.790Z"
   },
   {
    "duration": 39,
    "start_time": "2023-04-29T08:46:14.797Z"
   },
   {
    "duration": 8,
    "start_time": "2023-04-29T08:46:14.838Z"
   },
   {
    "duration": 10,
    "start_time": "2023-04-29T08:46:14.848Z"
   },
   {
    "duration": 8,
    "start_time": "2023-04-29T08:46:14.861Z"
   },
   {
    "duration": 15,
    "start_time": "2023-04-29T08:46:14.871Z"
   },
   {
    "duration": 191,
    "start_time": "2023-04-29T08:46:14.887Z"
   },
   {
    "duration": 4,
    "start_time": "2023-04-29T08:46:15.079Z"
   },
   {
    "duration": 14,
    "start_time": "2023-04-29T08:46:15.085Z"
   },
   {
    "duration": 145,
    "start_time": "2023-04-29T08:46:15.101Z"
   },
   {
    "duration": 14,
    "start_time": "2023-04-29T08:46:15.247Z"
   },
   {
    "duration": 335,
    "start_time": "2023-04-29T08:46:15.263Z"
   },
   {
    "duration": 240,
    "start_time": "2023-04-29T08:46:15.600Z"
   },
   {
    "duration": 6,
    "start_time": "2023-04-29T08:46:15.842Z"
   },
   {
    "duration": 26,
    "start_time": "2023-04-29T08:46:15.850Z"
   },
   {
    "duration": 347,
    "start_time": "2023-04-29T08:46:15.879Z"
   },
   {
    "duration": 252,
    "start_time": "2023-04-29T08:46:16.233Z"
   },
   {
    "duration": 10,
    "start_time": "2023-04-29T08:46:16.487Z"
   },
   {
    "duration": 362,
    "start_time": "2023-04-29T08:46:16.498Z"
   },
   {
    "duration": 150,
    "start_time": "2023-04-29T08:46:16.861Z"
   },
   {
    "duration": 322,
    "start_time": "2023-04-29T08:46:17.013Z"
   },
   {
    "duration": 392,
    "start_time": "2023-04-29T08:46:17.338Z"
   },
   {
    "duration": 6,
    "start_time": "2023-04-29T08:46:17.732Z"
   },
   {
    "duration": 130,
    "start_time": "2023-04-29T08:46:17.739Z"
   },
   {
    "duration": 145,
    "start_time": "2023-04-29T08:46:17.871Z"
   },
   {
    "duration": 141,
    "start_time": "2023-04-29T08:46:18.018Z"
   },
   {
    "duration": 7,
    "start_time": "2023-04-29T08:46:18.161Z"
   },
   {
    "duration": 12,
    "start_time": "2023-04-29T08:46:18.169Z"
   },
   {
    "duration": 11,
    "start_time": "2023-04-29T08:46:18.183Z"
   },
   {
    "duration": 11,
    "start_time": "2023-04-29T08:46:18.195Z"
   },
   {
    "duration": 244,
    "start_time": "2023-04-29T08:46:18.208Z"
   },
   {
    "duration": 31,
    "start_time": "2023-04-29T08:46:18.453Z"
   },
   {
    "duration": 174,
    "start_time": "2023-04-29T08:46:18.485Z"
   },
   {
    "duration": 7,
    "start_time": "2023-04-29T08:46:18.661Z"
   },
   {
    "duration": 9,
    "start_time": "2023-04-29T08:46:18.669Z"
   },
   {
    "duration": 6,
    "start_time": "2023-04-29T08:46:18.680Z"
   },
   {
    "duration": 13,
    "start_time": "2023-04-29T08:46:18.687Z"
   },
   {
    "duration": 46,
    "start_time": "2023-04-29T08:46:18.702Z"
   },
   {
    "duration": 12,
    "start_time": "2023-04-29T08:46:18.750Z"
   },
   {
    "duration": 287,
    "start_time": "2023-04-29T08:46:18.764Z"
   },
   {
    "duration": 230,
    "start_time": "2023-04-29T08:46:19.053Z"
   }
  ],
  "kernelspec": {
   "display_name": "Python 3 (ipykernel)",
   "language": "python",
   "name": "python3"
  },
  "language_info": {
   "codemirror_mode": {
    "name": "ipython",
    "version": 3
   },
   "file_extension": ".py",
   "mimetype": "text/x-python",
   "name": "python",
   "nbconvert_exporter": "python",
   "pygments_lexer": "ipython3",
   "version": "3.10.9"
  },
  "toc": {
   "base_numbering": 1,
   "nav_menu": {},
   "number_sections": true,
   "sideBar": true,
   "skip_h1_title": true,
   "title_cell": "Table of Contents",
   "title_sidebar": "Contents",
   "toc_cell": false,
   "toc_position": {},
   "toc_section_display": true,
   "toc_window_display": false
  }
 },
 "nbformat": 4,
 "nbformat_minor": 2
}
